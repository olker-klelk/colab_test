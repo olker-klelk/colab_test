{
  "nbformat": 4,
  "nbformat_minor": 0,
  "metadata": {
    "colab": {
      "name": "Untitled16.ipynb",
      "provenance": [],
      "collapsed_sections": []
    },
    "kernelspec": {
      "name": "python3",
      "display_name": "Python 3"
    },
    "language_info": {
      "name": "python"
    }
  },
  "cells": [
    {
      "cell_type": "code",
      "execution_count": 2,
      "metadata": {
        "id": "-qjdh-3RAKqi",
        "colab": {
          "base_uri": "https://localhost:8080/"
        },
        "outputId": "4e2fe31c-e554-4176-bb72-7cd480bdd178"
      },
      "outputs": [
        {
          "output_type": "stream",
          "name": "stdout",
          "text": [
            "Drive already mounted at /content/drive; to attempt to forcibly remount, call drive.mount(\"/content/drive\", force_remount=True).\n"
          ]
        }
      ],
      "source": [
        "import numpy as np\n",
        "import cv2\n",
        "from google.colab import drive\n",
        "from scipy.io.wavfile import write\n",
        "from google.colab.patches import cv2_imshow\n",
        "#我的雲端硬碟，執行後將登陸google出現的確認碼複製貼上即可\n",
        "drive.mount('/content/drive')\n",
        "import tensorflow as tf\n",
        "from tensorflow.keras import datasets, layers, models"
      ]
    },
    {
      "cell_type": "code",
      "source": [
        "all = 141\n",
        "data = np.empty((all,30,30,3))\n",
        "labelA = np.full(all,0)\n",
        "data_0c = 45\n",
        "data_1c = 96\n",
        "for i in range(0,data_0c,3):\n",
        "  Adata = cv2.imread('/content/0/'+str(i//3)+'.jpg')\n",
        "  Adata=cv2.resize(Adata,(30,30))\n",
        "  data[i] = Adata\n",
        "\n",
        "  center = (30 / 2, 30 / 2)\n",
        "  M = cv2.getRotationMatrix2D(center, 10, 1.0)\n",
        "  M2= cv2.getRotationMatrix2D(center, -10, 1.0)\n",
        "  rotated = cv2.warpAffine(Adata, M, (30, 30))\n",
        "  rotated2 = cv2.warpAffine(Adata, M2, (30, 30))\n",
        "  data[i+1] = Adata\n",
        "  data[i+2] = Adata\n",
        "  cv2_imshow(data[i])\n",
        "  print(labelA[i])\n",
        "for i in range(0,data_1c,3):\n",
        "  Adata = cv2.imread('/content/1/'+str(i//3)+'.jpg')\n",
        "  Adata=cv2.resize(Adata,(30,30))\n",
        "  data[i+data_0c] = Adata\n",
        "  labelA[i+data_0c:i+data_0c+3] = 1\n",
        "  M = cv2.getRotationMatrix2D(center, 10, 1.0)\n",
        "  M2= cv2.getRotationMatrix2D(center, -10, 1.0)\n",
        "  rotated = cv2.warpAffine(Adata, M, (30, 30))\n",
        "  rotated2 = cv2.warpAffine(Adata, M2, (30, 30))\n",
        "  data[i+data_0c+1] = Adata\n",
        "  data[i+data_0c+2] = Adata\n",
        "  cv2_imshow(data[i+data_0c])\n",
        "  print(labelA[i+data_0c:i+data_0c+3])"
      ],
      "metadata": {
        "colab": {
          "base_uri": "https://localhost:8080/",
          "height": 1000
        },
        "id": "DnPC0aqAKXR2",
        "outputId": "0b3d54ba-57ec-43a7-8d04-74b65dd173e3"
      },
      "execution_count": 123,
      "outputs": [
        {
          "output_type": "display_data",
          "data": {
            "text/plain": [
              "<PIL.Image.Image image mode=RGB size=30x30 at 0x7F7A55D45B10>"
            ],
            "image/png": "[encoded data removed]"
          },
          "metadata": {}
        },
        {
          "output_type": "stream",
          "name": "stdout",
          "text": [
            "0\n"
          ]
        },
        {
          "output_type": "display_data",
          "data": {
            "text/plain": [
              "<PIL.Image.Image image mode=RGB size=30x30 at 0x7F7A61FD33D0>"
            ],
            "image/png": "[encoded data removed]"
          },
          "metadata": {}
        },
        {
          "output_type": "stream",
          "name": "stdout",
          "text": [
            "0\n"
          ]
        },
        {
          "output_type": "display_data",
          "data": {
            "text/plain": [
              "<PIL.Image.Image image mode=RGB size=30x30 at 0x7F7A67A21990>"
            ],
            "image/png": "[encoded data removed]"
          },
          "metadata": {}
        },
        {
          "output_type": "stream",
          "name": "stdout",
          "text": [
            "0\n"
          ]
        },
        {
          "output_type": "display_data",
          "data": {
            "text/plain": [
              "<PIL.Image.Image image mode=RGB size=30x30 at 0x7F7A61FD3A90>"
            ],
            "image/png": "[encoded data removed]"
          },
          "metadata": {}
        },
        {
          "output_type": "stream",
          "name": "stdout",
          "text": [
            "0\n"
          ]
        },
        {
          "output_type": "display_data",
          "data": {
            "text/plain": [
              "<PIL.Image.Image image mode=RGB size=30x30 at 0x7F7A55C16710>"
            ],
            "image/png": "[encoded data removed]"
          },
          "metadata": {}
        },
        {
          "output_type": "stream",
          "name": "stdout",
          "text": [
            "0\n"
          ]
        },
        {
          "output_type": "display_data",
          "data": {
            "text/plain": [
              "<PIL.Image.Image image mode=RGB size=30x30 at 0x7F7A66EE5E10>"
            ],
            "image/png": "[encoded data removed]"
          },
          "metadata": {}
        },
        {
          "output_type": "stream",
          "name": "stdout",
          "text": [
            "0\n"
          ]
        },
        {
          "output_type": "display_data",
          "data": {
            "text/plain": [
              "<PIL.Image.Image image mode=RGB size=30x30 at 0x7F7A61FD3C90>"
            ],
            "image/png": "[encoded data removed]"
          },
          "metadata": {}
        },
        {
          "output_type": "stream",
          "name": "stdout",
          "text": [
            "0\n"
          ]
        },
        {
          "output_type": "display_data",
          "data": {
            "text/plain": [
              "<PIL.Image.Image image mode=RGB size=30x30 at 0x7F7A66EE5F90>"
            ],
            "image/png": "[encoded data removed]"
          },
          "metadata": {}
        },
        {
          "output_type": "stream",
          "name": "stdout",
          "text": [
            "0\n"
          ]
        },
        {
          "output_type": "display_data",
          "data": {
            "text/plain": [
              "<PIL.Image.Image image mode=RGB size=30x30 at 0x7F7A62100910>"
            ],
            "image/png": "[encoded data removed]"
          },
          "metadata": {}
        },
        {
          "output_type": "stream",
          "name": "stdout",
          "text": [
            "0\n"
          ]
        },
        {
          "output_type": "display_data",
          "data": {
            "text/plain": [
              "<PIL.Image.Image image mode=RGB size=30x30 at 0x7F7A6925EA50>"
            ],
            "image/png": "[encoded data removed]"
          },
          "metadata": {}
        },
        {
          "output_type": "stream",
          "name": "stdout",
          "text": [
            "0\n"
          ]
        },
        {
          "output_type": "display_data",
          "data": {
            "text/plain": [
              "<PIL.Image.Image image mode=RGB size=30x30 at 0x7F7A55DC78D0>"
            ],
            "image/png": "[encoded data removed]"
          },
          "metadata": {}
        },
        {
          "output_type": "stream",
          "name": "stdout",
          "text": [
            "0\n"
          ]
        },
        {
          "output_type": "display_data",
          "data": {
            "text/plain": [
              "<PIL.Image.Image image mode=RGB size=30x30 at 0x7F7A55DC7810>"
            ],
            "image/png": "[encoded data removed]"
          },
          "metadata": {}
        },
        {
          "output_type": "stream",
          "name": "stdout",
          "text": [
            "0\n"
          ]
        },
        {
          "output_type": "display_data",
          "data": {
            "text/plain": [
              "<PIL.Image.Image image mode=RGB size=30x30 at 0x7F7A55DC7210>"
            ],
            "image/png": "[encoded data removed]"
          },
          "metadata": {}
        },
        {
          "output_type": "stream",
          "name": "stdout",
          "text": [
            "0\n"
          ]
        },
        {
          "output_type": "display_data",
          "data": {
            "text/plain": [
              "<PIL.Image.Image image mode=RGB size=30x30 at 0x7F7A621009D0>"
            ],
            "image/png": "[encoded data removed]"
          },
          "metadata": {}
        },
        {
          "output_type": "stream",
          "name": "stdout",
          "text": [
            "0\n"
          ]
        },
        {
          "output_type": "display_data",
          "data": {
            "text/plain": [
              "<PIL.Image.Image image mode=RGB size=30x30 at 0x7F7A61FD3290>"
            ],
            "image/png": "[encoded data removed]"
          },
          "metadata": {}
        },
        {
          "output_type": "stream",
          "name": "stdout",
          "text": [
            "0\n"
          ]
        },
        {
          "output_type": "display_data",
          "data": {
            "text/plain": [
              "<PIL.Image.Image image mode=RGB size=30x30 at 0x7F7A55BFF150>"
            ],
            "image/png": "[encoded data removed]"
          },
          "metadata": {}
        },
        {
          "output_type": "stream",
          "name": "stdout",
          "text": [
            "[1 1 1]\n"
          ]
        },
        {
          "output_type": "display_data",
          "data": {
            "text/plain": [
              "<PIL.Image.Image image mode=RGB size=30x30 at 0x7F7A55DC78D0>"
            ],
            "image/png": "[encoded data removed]"
          },
          "metadata": {}
        },
        {
          "output_type": "stream",
          "name": "stdout",
          "text": [
            "[1 1 1]\n"
          ]
        },
        {
          "output_type": "display_data",
          "data": {
            "text/plain": [
              "<PIL.Image.Image image mode=RGB size=30x30 at 0x7F7A55DC78D0>"
            ],
            "image/png": "[encoded data removed]"
          },
          "metadata": {}
        },
        {
          "output_type": "stream",
          "name": "stdout",
          "text": [
            "[1 1 1]\n"
          ]
        },
        {
          "output_type": "display_data",
          "data": {
            "text/plain": [
              "<PIL.Image.Image image mode=RGB size=30x30 at 0x7F7A67014AD0>"
            ],
            "image/png": "[encoded data removed]"
          },
          "metadata": {}
        },
        {
          "output_type": "stream",
          "name": "stdout",
          "text": [
            "[1 1 1]\n"
          ]
        },
        {
          "output_type": "display_data",
          "data": {
            "text/plain": [
              "<PIL.Image.Image image mode=RGB size=30x30 at 0x7F7A6CE8B6D0>"
            ],
            "image/png": "[encoded data removed]"
          },
          "metadata": {}
        },
        {
          "output_type": "stream",
          "name": "stdout",
          "text": [
            "[1 1 1]\n"
          ]
        },
        {
          "output_type": "display_data",
          "data": {
            "text/plain": [
              "<PIL.Image.Image image mode=RGB size=30x30 at 0x7F7A6CE8B6D0>"
            ],
            "image/png": "[encoded data removed]"
          },
          "metadata": {}
        },
        {
          "output_type": "stream",
          "name": "stdout",
          "text": [
            "[1 1 1]\n"
          ]
        },
        {
          "output_type": "display_data",
          "data": {
            "text/plain": [
              "<PIL.Image.Image image mode=RGB size=30x30 at 0x7F7A6CE8B6D0>"
            ],
            "image/png": "[encoded data removed]"
          },
          "metadata": {}
        },
        {
          "output_type": "stream",
          "name": "stdout",
          "text": [
            "[1 1 1]\n"
          ]
        },
        {
          "output_type": "display_data",
          "data": {
            "text/plain": [
              "<PIL.Image.Image image mode=RGB size=30x30 at 0x7F7A6CE8B6D0>"
            ],
            "image/png": "[encoded data removed]"
          },
          "metadata": {}
        },
        {
          "output_type": "stream",
          "name": "stdout",
          "text": [
            "[1 1 1]\n"
          ]
        },
        {
          "output_type": "display_data",
          "data": {
            "text/plain": [
              "<PIL.Image.Image image mode=RGB size=30x30 at 0x7F7A6CE8B6D0>"
            ],
            "image/png": "[encoded data removed]"
          },
          "metadata": {}
        },
        {
          "output_type": "stream",
          "name": "stdout",
          "text": [
            "[1 1 1]\n"
          ]
        },
        {
          "output_type": "display_data",
          "data": {
            "text/plain": [
              "<PIL.Image.Image image mode=RGB size=30x30 at 0x7F7A6CE8B6D0>"
            ],
            "image/png": "[encoded data removed]"
          },
          "metadata": {}
        },
        {
          "output_type": "stream",
          "name": "stdout",
          "text": [
            "[1 1 1]\n"
          ]
        },
        {
          "output_type": "display_data",
          "data": {
            "text/plain": [
              "<PIL.Image.Image image mode=RGB size=30x30 at 0x7F7A6CE8B6D0>"
            ],
            "image/png": "[encoded data removed]"
          },
          "metadata": {}
        },
        {
          "output_type": "stream",
          "name": "stdout",
          "text": [
            "[1 1 1]\n"
          ]
        },
        {
          "output_type": "display_data",
          "data": {
            "text/plain": [
              "<PIL.Image.Image image mode=RGB size=30x30 at 0x7F7A58900B10>"
            ],
            "image/png": "[encoded data removed]"
          },
          "metadata": {}
        },
        {
          "output_type": "stream",
          "name": "stdout",
          "text": [
            "[1 1 1]\n"
          ]
        },
        {
          "output_type": "display_data",
          "data": {
            "text/plain": [
              "<PIL.Image.Image image mode=RGB size=30x30 at 0x7F7A55DC7950>"
            ],
            "image/png": "[encoded data removed]"
          },
          "metadata": {}
        },
        {
          "output_type": "stream",
          "name": "stdout",
          "text": [
            "[1 1 1]\n"
          ]
        },
        {
          "output_type": "display_data",
          "data": {
            "text/plain": [
              "<PIL.Image.Image image mode=RGB size=30x30 at 0x7F7A55DC7950>"
            ],
            "image/png": "[encoded data removed]"
          },
          "metadata": {}
        },
        {
          "output_type": "stream",
          "name": "stdout",
          "text": [
            "[1 1 1]\n"
          ]
        },
        {
          "output_type": "display_data",
          "data": {
            "text/plain": [
              "<PIL.Image.Image image mode=RGB size=30x30 at 0x7F7A61FD3650>"
            ],
            "image/png": "[encoded data removed]"
          },
          "metadata": {}
        },
        {
          "output_type": "stream",
          "name": "stdout",
          "text": [
            "[1 1 1]\n"
          ]
        },
        {
          "output_type": "display_data",
          "data": {
            "text/plain": [
              "<PIL.Image.Image image mode=RGB size=30x30 at 0x7F7A574C8810>"
            ],
            "image/png": "[encoded data removed]"
          },
          "metadata": {}
        },
        {
          "output_type": "stream",
          "name": "stdout",
          "text": [
            "[1 1 1]\n"
          ]
        },
        {
          "output_type": "display_data",
          "data": {
            "text/plain": [
              "<PIL.Image.Image image mode=RGB size=30x30 at 0x7F7A574C8810>"
            ],
            "image/png": "[encoded data removed]"
          },
          "metadata": {}
        },
        {
          "output_type": "stream",
          "name": "stdout",
          "text": [
            "[1 1 1]\n"
          ]
        },
        {
          "output_type": "display_data",
          "data": {
            "text/plain": [
              "<PIL.Image.Image image mode=RGB size=30x30 at 0x7F7A6CE8B6D0>"
            ],
            "image/png": "[encoded data removed]"
          },
          "metadata": {}
        },
        {
          "output_type": "stream",
          "name": "stdout",
          "text": [
            "[1 1 1]\n"
          ]
        },
        {
          "output_type": "display_data",
          "data": {
            "text/plain": [
              "<PIL.Image.Image image mode=RGB size=30x30 at 0x7F7A6CE8B6D0>"
            ],
            "image/png": "[encoded data removed]"
          },
          "metadata": {}
        },
        {
          "output_type": "stream",
          "name": "stdout",
          "text": [
            "[1 1 1]\n"
          ]
        },
        {
          "output_type": "display_data",
          "data": {
            "text/plain": [
              "<PIL.Image.Image image mode=RGB size=30x30 at 0x7F7A6CE8B6D0>"
            ],
            "image/png": "[encoded data removed]"
          },
          "metadata": {}
        },
        {
          "output_type": "stream",
          "name": "stdout",
          "text": [
            "[1 1 1]\n"
          ]
        },
        {
          "output_type": "display_data",
          "data": {
            "text/plain": [
              "<PIL.Image.Image image mode=RGB size=30x30 at 0x7F7A6CE8B6D0>"
            ],
            "image/png": "[encoded data removed]"
          },
          "metadata": {}
        },
        {
          "output_type": "stream",
          "name": "stdout",
          "text": [
            "[1 1 1]\n"
          ]
        },
        {
          "output_type": "display_data",
          "data": {
            "text/plain": [
              "<PIL.Image.Image image mode=RGB size=30x30 at 0x7F7A61FD3290>"
            ],
            "image/png": "[encoded data removed]"
          },
          "metadata": {}
        },
        {
          "output_type": "stream",
          "name": "stdout",
          "text": [
            "[1 1 1]\n"
          ]
        },
        {
          "output_type": "display_data",
          "data": {
            "text/plain": [
              "<PIL.Image.Image image mode=RGB size=30x30 at 0x7F7A61FD3290>"
            ],
            "image/png": "[encoded data removed]"
          },
          "metadata": {}
        },
        {
          "output_type": "stream",
          "name": "stdout",
          "text": [
            "[1 1 1]\n"
          ]
        },
        {
          "output_type": "display_data",
          "data": {
            "text/plain": [
              "<PIL.Image.Image image mode=RGB size=30x30 at 0x7F7A56507B10>"
            ],
            "image/png": "[encoded data removed]"
          },
          "metadata": {}
        },
        {
          "output_type": "stream",
          "name": "stdout",
          "text": [
            "[1 1 1]\n"
          ]
        },
        {
          "output_type": "display_data",
          "data": {
            "text/plain": [
              "<PIL.Image.Image image mode=RGB size=30x30 at 0x7F7A55C160D0>"
            ],
            "image/png": "[encoded data removed]"
          },
          "metadata": {}
        },
        {
          "output_type": "stream",
          "name": "stdout",
          "text": [
            "[1 1 1]\n"
          ]
        },
        {
          "output_type": "display_data",
          "data": {
            "text/plain": [
              "<PIL.Image.Image image mode=RGB size=30x30 at 0x7F7A61FD3FD0>"
            ],
            "image/png": "[encoded data removed]"
          },
          "metadata": {}
        },
        {
          "output_type": "stream",
          "name": "stdout",
          "text": [
            "[1 1 1]\n"
          ]
        },
        {
          "output_type": "display_data",
          "data": {
            "text/plain": [
              "<PIL.Image.Image image mode=RGB size=30x30 at 0x7F7A61FD3C90>"
            ],
            "image/png": "[encoded data removed]"
          },
          "metadata": {}
        },
        {
          "output_type": "stream",
          "name": "stdout",
          "text": [
            "[1 1 1]\n"
          ]
        },
        {
          "output_type": "display_data",
          "data": {
            "text/plain": [
              "<PIL.Image.Image image mode=RGB size=30x30 at 0x7F7A61FD3C90>"
            ],
            "image/png": "[encoded data removed]"
          },
          "metadata": {}
        },
        {
          "output_type": "stream",
          "name": "stdout",
          "text": [
            "[1 1 1]\n"
          ]
        },
        {
          "output_type": "display_data",
          "data": {
            "text/plain": [
              "<PIL.Image.Image image mode=RGB size=30x30 at 0x7F7A61FD3C90>"
            ],
            "image/png": "[encoded data removed]"
          },
          "metadata": {}
        },
        {
          "output_type": "stream",
          "name": "stdout",
          "text": [
            "[1 1 1]\n"
          ]
        },
        {
          "output_type": "display_data",
          "data": {
            "text/plain": [
              "<PIL.Image.Image image mode=RGB size=30x30 at 0x7F7A61FD3C90>"
            ],
            "image/png": "[encoded data removed]"
          },
          "metadata": {}
        },
        {
          "output_type": "stream",
          "name": "stdout",
          "text": [
            "[1 1 1]\n"
          ]
        },
        {
          "output_type": "display_data",
          "data": {
            "text/plain": [
              "<PIL.Image.Image image mode=RGB size=30x30 at 0x7F7A621006D0>"
            ],
            "image/png": "[encoded data removed]"
          },
          "metadata": {}
        },
        {
          "output_type": "stream",
          "name": "stdout",
          "text": [
            "[1 1 1]\n"
          ]
        },
        {
          "output_type": "display_data",
          "data": {
            "text/plain": [
              "<PIL.Image.Image image mode=RGB size=30x30 at 0x7F7A61FD3310>"
            ],
            "image/png": "[encoded data removed]"
          },
          "metadata": {}
        },
        {
          "output_type": "stream",
          "name": "stdout",
          "text": [
            "[1 1 1]\n"
          ]
        }
      ]
    },
    {
      "cell_type": "code",
      "source": [
        "model = models.Sequential()\n",
        "model.add(layers.Conv2D(64, (3, 3), padding='same', activation='relu', input_shape=(30, 30, 3)))\n",
        "model.add(layers.AveragePooling2D((2, 2)))\n",
        "model.add(layers.Conv2D(256, (3, 3), activation='relu'))\n",
        "model.add(layers.AveragePooling2D((2, 2)))\n",
        "model.add(layers.Flatten())\n",
        "model.add(layers.Dense(1024, activation='relu'))\n",
        "model.add(layers.Dense(512, activation='relu'))\n",
        "model.add(layers.Dense(2, activation='softmax'))\n",
        "model.summary()\n",
        "\n",
        "model.compile(optimizer=tf.keras.optimizers.Adam(learning_rate=48e-8),\n",
        "                loss=tf.keras.losses.SparseCategoricalCrossentropy(from_logits=True),\n",
        "                    metrics=['accuracy'])\n",
        "model.fit(data, labelA, epochs=100,\n",
        "              validation_data=(data, labelA))\n",
        "\n",
        "if (input(\"save?\") == 'y'):\n",
        "        model.save('saved_model/my_model')\n",
        "        print(\"save\")"
      ],
      "metadata": {
        "id": "jUwg-7M8E_3L",
        "colab": {
          "base_uri": "https://localhost:8080/"
        },
        "outputId": "685dcd3a-1496-4588-ae96-b078f847b50a"
      },
      "execution_count": 51,
      "outputs": [
        {
          "output_type": "stream",
          "name": "stdout",
          "text": [
            "Model: \"sequential_11\"\n",
            "_________________________________________________________________\n",
            " Layer (type)                Output Shape              Param #   \n",
            "=================================================================\n",
            " conv2d_22 (Conv2D)          (None, 30, 30, 64)        1792      \n",
            "                                                                 \n",
            " average_pooling2d_22 (Avera  (None, 15, 15, 64)       0         \n",
            " gePooling2D)                                                    \n",
            "                                                                 \n",
            " conv2d_23 (Conv2D)          (None, 13, 13, 256)       147712    \n",
            "                                                                 \n",
            " average_pooling2d_23 (Avera  (None, 6, 6, 256)        0         \n",
            " gePooling2D)                                                    \n",
            "                                                                 \n",
            " flatten_11 (Flatten)        (None, 9216)              0         \n",
            "                                                                 \n",
            " dense_33 (Dense)            (None, 1024)              9438208   \n",
            "                                                                 \n",
            " dense_34 (Dense)            (None, 512)               524800    \n",
            "                                                                 \n",
            " dense_35 (Dense)            (None, 2)                 1026      \n",
            "                                                                 \n",
            "=================================================================\n",
            "Total params: 10,113,538\n",
            "Trainable params: 10,113,538\n",
            "Non-trainable params: 0\n",
            "_________________________________________________________________\n",
            "Epoch 1/100\n"
          ]
        },
        {
          "output_type": "stream",
          "name": "stderr",
          "text": [
            "/usr/local/lib/python3.7/dist-packages/tensorflow/python/util/dispatch.py:1082: UserWarning: \"`sparse_categorical_crossentropy` received `from_logits=True`, but the `output` argument was produced by a sigmoid or softmax activation and thus does not represent logits. Was this intended?\"\n",
            "  return dispatch_target(*args, **kwargs)\n"
          ]
        },
        {
          "output_type": "stream",
          "name": "stdout",
          "text": [
            "4/4 [==============================] - 2s 342ms/step - loss: 18.1411 - accuracy: 0.4412 - val_loss: 15.6219 - val_accuracy: 0.4412\n",
            "Epoch 2/100\n",
            "4/4 [==============================] - 1s 282ms/step - loss: 14.6759 - accuracy: 0.4412 - val_loss: 12.2305 - val_accuracy: 0.4412\n",
            "Epoch 3/100\n",
            "4/4 [==============================] - 1s 281ms/step - loss: 11.4184 - accuracy: 0.4412 - val_loss: 8.8806 - val_accuracy: 0.4412\n",
            "Epoch 4/100\n",
            "4/4 [==============================] - 1s 280ms/step - loss: 8.0194 - accuracy: 0.4412 - val_loss: 5.7142 - val_accuracy: 0.4706\n",
            "Epoch 5/100\n",
            "4/4 [==============================] - 1s 288ms/step - loss: 4.9191 - accuracy: 0.4608 - val_loss: 3.2383 - val_accuracy: 0.4706\n",
            "Epoch 6/100\n",
            "4/4 [==============================] - 1s 283ms/step - loss: 2.7023 - accuracy: 0.4804 - val_loss: 1.9599 - val_accuracy: 0.6471\n",
            "Epoch 7/100\n",
            "4/4 [==============================] - 1s 282ms/step - loss: 2.0504 - accuracy: 0.6765 - val_loss: 2.2724 - val_accuracy: 0.6765\n",
            "Epoch 8/100\n",
            "4/4 [==============================] - 1s 288ms/step - loss: 2.3764 - accuracy: 0.6471 - val_loss: 2.5030 - val_accuracy: 0.6471\n",
            "Epoch 9/100\n",
            "4/4 [==============================] - 1s 280ms/step - loss: 2.4777 - accuracy: 0.6471 - val_loss: 2.3305 - val_accuracy: 0.6471\n",
            "Epoch 10/100\n",
            "4/4 [==============================] - 1s 286ms/step - loss: 2.2416 - accuracy: 0.6471 - val_loss: 2.0280 - val_accuracy: 0.7353\n",
            "Epoch 11/100\n",
            "4/4 [==============================] - 1s 280ms/step - loss: 1.8879 - accuracy: 0.7353 - val_loss: 1.7008 - val_accuracy: 0.7059\n",
            "Epoch 12/100\n",
            "4/4 [==============================] - 1s 276ms/step - loss: 1.6691 - accuracy: 0.6667 - val_loss: 1.6033 - val_accuracy: 0.6176\n",
            "Epoch 13/100\n",
            "4/4 [==============================] - 1s 278ms/step - loss: 1.6454 - accuracy: 0.5980 - val_loss: 1.6274 - val_accuracy: 0.5882\n",
            "Epoch 14/100\n",
            "4/4 [==============================] - 1s 283ms/step - loss: 1.6053 - accuracy: 0.5882 - val_loss: 1.5293 - val_accuracy: 0.5882\n",
            "Epoch 15/100\n",
            "4/4 [==============================] - 1s 283ms/step - loss: 1.5061 - accuracy: 0.5882 - val_loss: 1.4304 - val_accuracy: 0.6176\n",
            "Epoch 16/100\n",
            "4/4 [==============================] - 1s 289ms/step - loss: 1.4032 - accuracy: 0.6471 - val_loss: 1.3384 - val_accuracy: 0.7059\n",
            "Epoch 17/100\n",
            "4/4 [==============================] - 1s 285ms/step - loss: 1.3119 - accuracy: 0.6863 - val_loss: 1.2781 - val_accuracy: 0.7059\n",
            "Epoch 18/100\n",
            "4/4 [==============================] - 1s 285ms/step - loss: 1.2756 - accuracy: 0.6961 - val_loss: 1.2349 - val_accuracy: 0.6765\n",
            "Epoch 19/100\n",
            "4/4 [==============================] - 1s 281ms/step - loss: 1.2161 - accuracy: 0.6765 - val_loss: 1.1812 - val_accuracy: 0.6765\n",
            "Epoch 20/100\n",
            "4/4 [==============================] - 1s 279ms/step - loss: 1.1706 - accuracy: 0.6765 - val_loss: 1.1124 - val_accuracy: 0.7059\n",
            "Epoch 21/100\n",
            "4/4 [==============================] - 1s 280ms/step - loss: 1.0999 - accuracy: 0.7353 - val_loss: 1.0548 - val_accuracy: 0.7353\n",
            "Epoch 22/100\n",
            "4/4 [==============================] - 1s 284ms/step - loss: 1.0453 - accuracy: 0.7353 - val_loss: 1.0181 - val_accuracy: 0.7353\n",
            "Epoch 23/100\n",
            "4/4 [==============================] - 1s 283ms/step - loss: 1.0103 - accuracy: 0.6863 - val_loss: 0.9916 - val_accuracy: 0.6471\n",
            "Epoch 24/100\n",
            "4/4 [==============================] - 1s 285ms/step - loss: 0.9853 - accuracy: 0.6667 - val_loss: 0.9507 - val_accuracy: 0.6471\n",
            "Epoch 25/100\n",
            "4/4 [==============================] - 1s 290ms/step - loss: 0.9403 - accuracy: 0.6667 - val_loss: 0.8892 - val_accuracy: 0.7353\n",
            "Epoch 26/100\n",
            "4/4 [==============================] - 1s 286ms/step - loss: 0.8783 - accuracy: 0.7353 - val_loss: 0.8435 - val_accuracy: 0.7353\n",
            "Epoch 27/100\n",
            "4/4 [==============================] - 1s 284ms/step - loss: 0.8338 - accuracy: 0.7353 - val_loss: 0.8034 - val_accuracy: 0.7353\n",
            "Epoch 28/100\n",
            "4/4 [==============================] - 1s 285ms/step - loss: 0.7956 - accuracy: 0.7353 - val_loss: 0.7652 - val_accuracy: 0.7353\n",
            "Epoch 29/100\n",
            "4/4 [==============================] - 1s 285ms/step - loss: 0.7650 - accuracy: 0.7353 - val_loss: 0.7317 - val_accuracy: 0.7353\n",
            "Epoch 30/100\n",
            "4/4 [==============================] - 1s 288ms/step - loss: 0.7256 - accuracy: 0.7353 - val_loss: 0.6973 - val_accuracy: 0.7647\n",
            "Epoch 31/100\n",
            "4/4 [==============================] - 1s 286ms/step - loss: 0.6891 - accuracy: 0.7941 - val_loss: 0.6678 - val_accuracy: 0.7941\n",
            "Epoch 32/100\n",
            "4/4 [==============================] - 1s 286ms/step - loss: 0.6611 - accuracy: 0.7941 - val_loss: 0.6431 - val_accuracy: 0.7647\n",
            "Epoch 33/100\n",
            "4/4 [==============================] - 1s 282ms/step - loss: 0.6394 - accuracy: 0.7647 - val_loss: 0.6150 - val_accuracy: 0.7647\n",
            "Epoch 34/100\n",
            "4/4 [==============================] - 1s 281ms/step - loss: 0.6088 - accuracy: 0.7745 - val_loss: 0.5846 - val_accuracy: 0.7941\n",
            "Epoch 35/100\n",
            "4/4 [==============================] - 1s 280ms/step - loss: 0.5795 - accuracy: 0.7941 - val_loss: 0.5609 - val_accuracy: 0.7941\n",
            "Epoch 36/100\n",
            "4/4 [==============================] - 1s 283ms/step - loss: 0.5543 - accuracy: 0.7941 - val_loss: 0.5344 - val_accuracy: 0.8235\n",
            "Epoch 37/100\n",
            "4/4 [==============================] - 1s 290ms/step - loss: 0.5346 - accuracy: 0.8039 - val_loss: 0.5171 - val_accuracy: 0.7941\n",
            "Epoch 38/100\n",
            "4/4 [==============================] - 1s 286ms/step - loss: 0.5119 - accuracy: 0.7941 - val_loss: 0.4991 - val_accuracy: 0.7941\n",
            "Epoch 39/100\n",
            "4/4 [==============================] - 1s 281ms/step - loss: 0.4914 - accuracy: 0.7941 - val_loss: 0.4639 - val_accuracy: 0.7941\n",
            "Epoch 40/100\n",
            "4/4 [==============================] - 1s 280ms/step - loss: 0.4538 - accuracy: 0.7941 - val_loss: 0.4301 - val_accuracy: 0.8235\n",
            "Epoch 41/100\n",
            "4/4 [==============================] - 1s 283ms/step - loss: 0.4237 - accuracy: 0.8235 - val_loss: 0.3988 - val_accuracy: 0.8235\n",
            "Epoch 42/100\n",
            "4/4 [==============================] - 1s 288ms/step - loss: 0.3915 - accuracy: 0.8235 - val_loss: 0.3957 - val_accuracy: 0.8235\n",
            "Epoch 43/100\n",
            "4/4 [==============================] - 1s 283ms/step - loss: 0.4010 - accuracy: 0.8725 - val_loss: 0.3836 - val_accuracy: 0.8824\n",
            "Epoch 44/100\n",
            "4/4 [==============================] - 1s 287ms/step - loss: 0.3700 - accuracy: 0.8333 - val_loss: 0.3343 - val_accuracy: 0.8235\n",
            "Epoch 45/100\n",
            "4/4 [==============================] - 1s 285ms/step - loss: 0.3387 - accuracy: 0.8431 - val_loss: 0.3249 - val_accuracy: 0.8529\n",
            "Epoch 46/100\n",
            "4/4 [==============================] - 1s 285ms/step - loss: 0.3178 - accuracy: 0.8529 - val_loss: 0.2980 - val_accuracy: 0.8235\n",
            "Epoch 47/100\n",
            "4/4 [==============================] - 1s 284ms/step - loss: 0.3028 - accuracy: 0.8235 - val_loss: 0.2886 - val_accuracy: 0.8529\n",
            "Epoch 48/100\n",
            "4/4 [==============================] - 1s 281ms/step - loss: 0.2813 - accuracy: 0.8529 - val_loss: 0.2666 - val_accuracy: 0.8235\n",
            "Epoch 49/100\n",
            "4/4 [==============================] - 1s 284ms/step - loss: 0.2640 - accuracy: 0.8431 - val_loss: 0.2546 - val_accuracy: 0.8529\n",
            "Epoch 50/100\n",
            "4/4 [==============================] - 1s 288ms/step - loss: 0.2532 - accuracy: 0.8824 - val_loss: 0.2414 - val_accuracy: 0.8824\n",
            "Epoch 51/100\n",
            "4/4 [==============================] - 1s 287ms/step - loss: 0.2367 - accuracy: 0.8627 - val_loss: 0.2291 - val_accuracy: 0.8529\n",
            "Epoch 52/100\n",
            "4/4 [==============================] - 1s 278ms/step - loss: 0.2268 - accuracy: 0.8529 - val_loss: 0.2188 - val_accuracy: 0.8529\n",
            "Epoch 53/100\n",
            "4/4 [==============================] - 1s 286ms/step - loss: 0.2164 - accuracy: 0.8627 - val_loss: 0.2075 - val_accuracy: 0.8824\n",
            "Epoch 54/100\n",
            "4/4 [==============================] - 1s 280ms/step - loss: 0.2056 - accuracy: 0.8824 - val_loss: 0.1993 - val_accuracy: 0.9118\n",
            "Epoch 55/100\n",
            "4/4 [==============================] - 1s 283ms/step - loss: 0.1980 - accuracy: 0.9118 - val_loss: 0.1935 - val_accuracy: 0.9118\n",
            "Epoch 56/100\n",
            "4/4 [==============================] - 1s 283ms/step - loss: 0.1925 - accuracy: 0.9118 - val_loss: 0.1876 - val_accuracy: 0.9118\n",
            "Epoch 57/100\n",
            "4/4 [==============================] - 1s 285ms/step - loss: 0.1874 - accuracy: 0.9118 - val_loss: 0.1810 - val_accuracy: 0.9118\n",
            "Epoch 58/100\n",
            "4/4 [==============================] - 1s 284ms/step - loss: 0.1785 - accuracy: 0.9412 - val_loss: 0.1731 - val_accuracy: 0.9412\n",
            "Epoch 59/100\n",
            "4/4 [==============================] - 1s 283ms/step - loss: 0.1720 - accuracy: 0.9510 - val_loss: 0.1690 - val_accuracy: 0.9706\n",
            "Epoch 60/100\n",
            "4/4 [==============================] - 1s 282ms/step - loss: 0.1725 - accuracy: 0.9412 - val_loss: 0.1665 - val_accuracy: 0.9412\n",
            "Epoch 61/100\n",
            "4/4 [==============================] - 1s 318ms/step - loss: 0.1643 - accuracy: 0.9510 - val_loss: 0.1571 - val_accuracy: 1.0000\n",
            "Epoch 62/100\n",
            "4/4 [==============================] - 1s 324ms/step - loss: 0.1556 - accuracy: 1.0000 - val_loss: 0.1559 - val_accuracy: 1.0000\n",
            "Epoch 63/100\n",
            "4/4 [==============================] - 1s 287ms/step - loss: 0.1594 - accuracy: 0.9314 - val_loss: 0.1546 - val_accuracy: 0.9412\n",
            "Epoch 64/100\n",
            "4/4 [==============================] - 1s 284ms/step - loss: 0.1510 - accuracy: 0.9706 - val_loss: 0.1438 - val_accuracy: 1.0000\n",
            "Epoch 65/100\n",
            "4/4 [==============================] - 1s 283ms/step - loss: 0.1444 - accuracy: 1.0000 - val_loss: 0.1445 - val_accuracy: 0.9706\n",
            "Epoch 66/100\n",
            "4/4 [==============================] - 1s 286ms/step - loss: 0.1439 - accuracy: 0.9706 - val_loss: 0.1424 - val_accuracy: 0.9706\n",
            "Epoch 67/100\n",
            "4/4 [==============================] - 1s 276ms/step - loss: 0.1418 - accuracy: 0.9706 - val_loss: 0.1372 - val_accuracy: 1.0000\n",
            "Epoch 68/100\n",
            "4/4 [==============================] - 1s 279ms/step - loss: 0.1362 - accuracy: 1.0000 - val_loss: 0.1308 - val_accuracy: 1.0000\n",
            "Epoch 69/100\n",
            "4/4 [==============================] - 1s 277ms/step - loss: 0.1326 - accuracy: 1.0000 - val_loss: 0.1325 - val_accuracy: 1.0000\n",
            "Epoch 70/100\n",
            "4/4 [==============================] - 1s 281ms/step - loss: 0.1314 - accuracy: 1.0000 - val_loss: 0.1260 - val_accuracy: 1.0000\n",
            "Epoch 71/100\n",
            "4/4 [==============================] - 1s 279ms/step - loss: 0.1248 - accuracy: 1.0000 - val_loss: 0.1231 - val_accuracy: 1.0000\n",
            "Epoch 72/100\n",
            "4/4 [==============================] - 1s 284ms/step - loss: 0.1249 - accuracy: 1.0000 - val_loss: 0.1259 - val_accuracy: 0.9706\n",
            "Epoch 73/100\n",
            "4/4 [==============================] - 1s 278ms/step - loss: 0.1243 - accuracy: 0.9804 - val_loss: 0.1183 - val_accuracy: 1.0000\n",
            "Epoch 74/100\n",
            "4/4 [==============================] - 1s 282ms/step - loss: 0.1179 - accuracy: 1.0000 - val_loss: 0.1217 - val_accuracy: 1.0000\n",
            "Epoch 75/100\n",
            "4/4 [==============================] - 1s 283ms/step - loss: 0.1213 - accuracy: 1.0000 - val_loss: 0.1254 - val_accuracy: 1.0000\n",
            "Epoch 76/100\n",
            "4/4 [==============================] - 1s 286ms/step - loss: 0.1259 - accuracy: 1.0000 - val_loss: 0.1170 - val_accuracy: 1.0000\n",
            "Epoch 77/100\n",
            "4/4 [==============================] - 1s 279ms/step - loss: 0.1130 - accuracy: 1.0000 - val_loss: 0.1085 - val_accuracy: 1.0000\n",
            "Epoch 78/100\n",
            "4/4 [==============================] - 1s 282ms/step - loss: 0.1094 - accuracy: 1.0000 - val_loss: 0.1093 - val_accuracy: 1.0000\n",
            "Epoch 79/100\n",
            "4/4 [==============================] - 1s 282ms/step - loss: 0.1109 - accuracy: 1.0000 - val_loss: 0.1081 - val_accuracy: 1.0000\n",
            "Epoch 80/100\n",
            "4/4 [==============================] - 1s 284ms/step - loss: 0.1063 - accuracy: 1.0000 - val_loss: 0.1024 - val_accuracy: 1.0000\n",
            "Epoch 81/100\n",
            "4/4 [==============================] - 1s 286ms/step - loss: 0.1026 - accuracy: 1.0000 - val_loss: 0.1053 - val_accuracy: 1.0000\n",
            "Epoch 82/100\n",
            "4/4 [==============================] - 1s 282ms/step - loss: 0.1054 - accuracy: 1.0000 - val_loss: 0.1035 - val_accuracy: 1.0000\n",
            "Epoch 83/100\n",
            "4/4 [==============================] - 1s 283ms/step - loss: 0.1027 - accuracy: 1.0000 - val_loss: 0.0986 - val_accuracy: 1.0000\n",
            "Epoch 84/100\n",
            "4/4 [==============================] - 1s 281ms/step - loss: 0.0996 - accuracy: 1.0000 - val_loss: 0.0959 - val_accuracy: 1.0000\n",
            "Epoch 85/100\n",
            "4/4 [==============================] - 1s 283ms/step - loss: 0.0960 - accuracy: 1.0000 - val_loss: 0.0945 - val_accuracy: 1.0000\n",
            "Epoch 86/100\n",
            "4/4 [==============================] - 1s 287ms/step - loss: 0.0939 - accuracy: 1.0000 - val_loss: 0.0932 - val_accuracy: 1.0000\n",
            "Epoch 87/100\n",
            "4/4 [==============================] - 1s 286ms/step - loss: 0.0937 - accuracy: 1.0000 - val_loss: 0.0920 - val_accuracy: 1.0000\n",
            "Epoch 88/100\n",
            "4/4 [==============================] - 1s 291ms/step - loss: 0.0908 - accuracy: 1.0000 - val_loss: 0.0918 - val_accuracy: 1.0000\n",
            "Epoch 89/100\n",
            "4/4 [==============================] - 1s 284ms/step - loss: 0.0962 - accuracy: 1.0000 - val_loss: 0.0955 - val_accuracy: 1.0000\n",
            "Epoch 90/100\n",
            "4/4 [==============================] - 1s 282ms/step - loss: 0.0920 - accuracy: 1.0000 - val_loss: 0.0878 - val_accuracy: 1.0000\n",
            "Epoch 91/100\n",
            "4/4 [==============================] - 1s 280ms/step - loss: 0.0910 - accuracy: 1.0000 - val_loss: 0.0908 - val_accuracy: 1.0000\n",
            "Epoch 92/100\n",
            "4/4 [==============================] - 1s 278ms/step - loss: 0.0892 - accuracy: 1.0000 - val_loss: 0.0851 - val_accuracy: 1.0000\n",
            "Epoch 93/100\n",
            "4/4 [==============================] - 1s 286ms/step - loss: 0.0857 - accuracy: 1.0000 - val_loss: 0.0863 - val_accuracy: 1.0000\n",
            "Epoch 94/100\n",
            "4/4 [==============================] - 1s 283ms/step - loss: 0.0854 - accuracy: 1.0000 - val_loss: 0.0828 - val_accuracy: 1.0000\n",
            "Epoch 95/100\n",
            "4/4 [==============================] - 1s 281ms/step - loss: 0.0821 - accuracy: 1.0000 - val_loss: 0.0816 - val_accuracy: 1.0000\n",
            "Epoch 96/100\n",
            "4/4 [==============================] - 1s 282ms/step - loss: 0.0819 - accuracy: 1.0000 - val_loss: 0.0847 - val_accuracy: 1.0000\n",
            "Epoch 97/100\n",
            "4/4 [==============================] - 1s 281ms/step - loss: 0.0842 - accuracy: 1.0000 - val_loss: 0.0814 - val_accuracy: 1.0000\n",
            "Epoch 98/100\n",
            "4/4 [==============================] - 1s 287ms/step - loss: 0.0804 - accuracy: 1.0000 - val_loss: 0.0779 - val_accuracy: 1.0000\n",
            "Epoch 99/100\n",
            "4/4 [==============================] - 1s 285ms/step - loss: 0.0782 - accuracy: 1.0000 - val_loss: 0.0773 - val_accuracy: 1.0000\n",
            "Epoch 100/100\n",
            "4/4 [==============================] - 1s 289ms/step - loss: 0.0774 - accuracy: 1.0000 - val_loss: 0.0759 - val_accuracy: 1.0000\n",
            "save?y\n",
            "INFO:tensorflow:Assets written to: saved_model/my_model/assets\n",
            "save\n"
          ]
        }
      ]
    },
    {
      "cell_type": "code",
      "source": [
        "model.fit(data, labelA, epochs=2,\n",
        "              validation_data=(data, labelA))\n",
        "model.fit(data[26:33], labelA[26:33], epochs=1,\n",
        "              validation_data=(data, labelA))\n",
        "model.save('saved_model/my_model')\n",
        "print(\"save\")"
      ],
      "metadata": {
        "colab": {
          "base_uri": "https://localhost:8080/"
        },
        "id": "6FNM7XX0g7en",
        "outputId": "b86b1df0-f851-4353-ee57-2389b188565b"
      },
      "execution_count": 124,
      "outputs": [
        {
          "output_type": "stream",
          "name": "stdout",
          "text": [
            "Epoch 1/2\n"
          ]
        },
        {
          "output_type": "stream",
          "name": "stderr",
          "text": [
            "/usr/local/lib/python3.7/dist-packages/tensorflow/python/util/dispatch.py:1082: UserWarning: \"`sparse_categorical_crossentropy` received `from_logits=True`, but the `output` argument was produced by a sigmoid or softmax activation and thus does not represent logits. Was this intended?\"\n",
            "  return dispatch_target(*args, **kwargs)\n"
          ]
        },
        {
          "output_type": "stream",
          "name": "stdout",
          "text": [
            "5/5 [==============================] - 2s 333ms/step - loss: 0.0629 - accuracy: 0.9858 - val_loss: 0.0498 - val_accuracy: 1.0000\n",
            "Epoch 2/2\n",
            "5/5 [==============================] - 1s 285ms/step - loss: 0.0465 - accuracy: 1.0000 - val_loss: 0.0475 - val_accuracy: 1.0000\n",
            "1/1 [==============================] - 1s 565ms/step - loss: 0.3336 - accuracy: 1.0000 - val_loss: 0.0452 - val_accuracy: 1.0000\n",
            "INFO:tensorflow:Assets written to: saved_model/my_model/assets\n",
            "save\n"
          ]
        }
      ]
    },
    {
      "cell_type": "code",
      "source": [
        "if (input(\"save?\") == 'y'):\n",
        "        model.save('saved_model/my_model')\n",
        "        print(\"save\")"
      ],
      "metadata": {
        "colab": {
          "base_uri": "https://localhost:8080/"
        },
        "id": "sfJWFpeRhY59",
        "outputId": "7aa8bf03-382e-4a9c-c51b-48947769bd39"
      },
      "execution_count": 86,
      "outputs": [
        {
          "output_type": "stream",
          "name": "stdout",
          "text": [
            "save?y\n",
            "INFO:tensorflow:Assets written to: saved_model/my_model/assets\n",
            "save\n"
          ]
        }
      ]
    },
    {
      "cell_type": "code",
      "source": [
        "from collections import Counter\n",
        "x1 = []\n",
        "x2 = []\n",
        "xy_count = [0]\n",
        "y1 = []\n",
        "y2 = []\n",
        "img = cv2.imread('/content/test1.jpg')\n",
        "gray = cv2.cvtColor(img,cv2.COLOR_BGR2GRAY)\n",
        "# 利用Sobel邊緣檢測生成二值圖\n",
        "\n",
        "sobel = cv2.Sobel(gray, cv2.CV_8U, 1, 0, ksize=3)\n",
        "\n",
        "# 二值化\n",
        "ret, binary = cv2.threshold(sobel, 0, 255, cv2.THRESH_OTSU + cv2.THRESH_BINARY)\n",
        "\n",
        "# 膨脹、腐蝕\n",
        "element1 = cv2.getStructuringElement(cv2.MORPH_RECT, (30, 9))\n",
        "element2 = cv2.getStructuringElement(cv2.MORPH_RECT, (24, 6))\n",
        "\n",
        "# 膨脹一次，讓輪廓突出\n",
        "dilation = cv2.dilate(binary, element2, iterations=1)\n",
        "\n",
        "# 腐蝕一次，去掉細節\n",
        "erosion = cv2.erode(dilation, element1, iterations=1)\n",
        "\n",
        "# 再次膨脹，讓輪廓明顯一些\n",
        "dilation2 = cv2.dilate(erosion, element2, iterations=9)\n",
        "\n",
        "#  查詢輪廓和篩選文字區域\n",
        "#  cv2.RETR_TREE：L建立一個等級樹結構的輪廓  cv2.CHAIN_APPROX_SIMPLE 取矩行所需要儲存的座標節點\n",
        "region = []\n",
        "contours, hierarchy = cv2.findContours(dilation2, cv2.RETR_TREE, cv2.CHAIN_APPROX_SIMPLE)\n",
        "for i in range(len(contours)):\n",
        "    cnt = contours[i]\n",
        "\n",
        "\n",
        "    area = cv2.contourArea(cnt)\n",
        "    if (area < 10000):\n",
        "        continue\n",
        "\n",
        "\n",
        "    rect = cv2.minAreaRect(cnt)\n",
        "    print (\"rect is: \")\n",
        "    print (rect)\n",
        "\n",
        "\n",
        "    box = cv2.boxPoints(rect)\n",
        "    box = np.int0(box)\n",
        "\n",
        "\n",
        "    height = abs(box[0][1] - box[2][1])\n",
        "    width = abs(box[0][0] - box[2][0])\n",
        "\n",
        "\n",
        "    if (height > width * 1.1):\n",
        "        continue\n",
        "\n",
        "    region.append(box)\n",
        "\n",
        "\n",
        "round = 0\n",
        "for box in region:\n",
        "    \n",
        "    '''round+=1\n",
        "    if (round == 2):\n",
        "      break\n",
        "    if (i==1):\n",
        "      cv2.drawContours(img, [box], 0, (0, 255, 0), 2)\n",
        "      print('-----------',box)\n",
        "      cv2_imshow(img[box[1,1]:box[0,1],box[0,0]:box[2,0]])'''\n",
        "    cv2.drawContours(img, [box], 0, (0, 255, 0), 2)\n",
        "    imgg = gray[box[1,1]:box[0,1],box[0,0]:box[2,0]]\n",
        "    sobel = cv2.Sobel(imgg, cv2.CV_8U, 1, 0, ksize=3)\n",
        "    ret, binary = cv2.threshold(imgg, 0, 255, cv2.THRESH_OTSU + cv2.THRESH_BINARY)\n",
        "    cv2_imshow(~binary)\n",
        "    print(box)\n",
        "    print('W------------')\n",
        "\n",
        "    xblock = np.zeros(imgg.shape,np.uint8)\n",
        "    for x in range(0,binary.shape[0]):\n",
        "      white = ~binary[x,:]\n",
        "      white[white==255] = 1\n",
        "      white = np.sum(white)\n",
        "\n",
        "      if (white > 2):\n",
        "        \n",
        "        if (round == 0):\n",
        "          y1.append(x+box[1,1])\n",
        "          round = 1\n",
        "        for wrtie_w in range(0,white):\n",
        "          xblock[x,wrtie_w] = 255\n",
        "        continue\n",
        "      if (round == 1):\n",
        "        y2.append(x+box[1,1])\n",
        "        round = 0\n",
        "    cv2_imshow(xblock)\n",
        "    print('x------------')\n",
        "imgg = gray\n",
        "sobel = cv2.Sobel(imgg, cv2.CV_8U, 1, 0, ksize=3)\n",
        "ret, binary = cv2.threshold(imgg, 0, 255, cv2.THRESH_OTSU + cv2.THRESH_BINARY)\n",
        "count = 0\n",
        "for i in range(0,len(y1)):\n",
        "\n",
        "  yblock = np.zeros((y2[i]-y1[i],imgg.shape[1]),np.uint8)\n",
        "  \n",
        "  cv2_imshow(binary[y1[i]:y2[i],:])\n",
        "  for y in range(0,binary.shape[1]):\n",
        "    white = ~binary[y1[i]:y2[i],y]\n",
        "    white[white==255] = 1\n",
        "    white = np.sum(white)\n",
        "\n",
        "    if (white > 0):\n",
        "        \n",
        "      if (round == 0):\n",
        "        x1.append(y)\n",
        "        round = 1\n",
        "      for wrtie_w in range(0,white):\n",
        "        if(y<=yblock.shape[1]):\n",
        "          yblock[wrtie_w,y] = 255\n",
        "      continue\n",
        "    if (round == 1):\n",
        "      x2.append(y)\n",
        "      round = 0\n",
        "      count +=1\n",
        "  xy_count.append(count)  \n",
        "\n",
        "  cv2_imshow(yblock)\n",
        "  print(xy_count)\n",
        "  '''for i in range(0,binary.shape[0],1):\n",
        "      for j in range(0,binary.shape[1],1):\n",
        "        cv2_imshow(binary[i:i+binary.shape[0]//5,j:j+binary.shape[1]//5*6])'''\n",
        "\n",
        "#cv2_imshow(img)\n",
        "print(img.shape)\n",
        "for i in range(18,len(y1)):\n",
        "  for count in range(xy_count[i],xy_count[i+1]):\n",
        "    if(x2[count]-x1[count]<20):\n",
        "      roun = 20-(x2[count]-x1[count])\n",
        "      cv2_imshow(img[y1[i]:y2[i],x1[count]:np.minimum(x2[count]+roun,1043)])\n",
        "      cv2_imshow(img[y1[i]:y2[i],np.max(x1[count]-roun,0):x2[count]])\n",
        "    else:\n",
        "      cv2_imshow(img[y1[i]:y2[i],x1[count]:x2[count]])\n"
      ],
      "metadata": {
        "colab": {
          "base_uri": "https://localhost:8080/",
          "height": 1000
        },
        "id": "AEnaghAXi0mM",
        "outputId": "5193c7e1-4bdc-42ec-bd4f-a8c06d925e8e"
      },
      "execution_count": 3,
      "outputs": [
        {
          "output_type": "stream",
          "name": "stdout",
          "text": [
            "rect is: \n",
            "((439.99993896484375, 386.49993896484375), (879.9998779296875, 664.9998779296875), -0.0)\n",
            "rect is: \n",
            "((457.49993896484375, 30.499996185302734), (352.99993896484375, 56.99999237060547), 0.0)\n"
          ]
        },
        {
          "output_type": "display_data",
          "data": {
            "text/plain": [
              "<PIL.Image.Image image mode=L size=879x664 at 0x7F7A74749D50>"
            ],
            "image/png": "[encoded data removed]"
          },
          "metadata": {}
        },
        {
          "output_type": "stream",
          "name": "stdout",
          "text": [
            "[[  0 718]\n",
            " [  0  54]\n",
            " [879  54]\n",
            " [879 718]]\n",
            "W------------\n"
          ]
        },
        {
          "output_type": "display_data",
          "data": {
            "text/plain": [
              "<PIL.Image.Image image mode=L size=879x664 at 0x7F7A74749F50>"
            ],
            "image/png": "[encoded data removed]"
          },
          "metadata": {}
        },
        {
          "output_type": "stream",
          "name": "stdout",
          "text": [
            "x------------\n"
          ]
        },
        {
          "output_type": "display_data",
          "data": {
            "text/plain": [
              "<PIL.Image.Image image mode=L size=353x56 at 0x7F7A74749D50>"
            ],
            "image/png": "[encoded data removed]"
          },
          "metadata": {}
        },
        {
          "output_type": "stream",
          "name": "stdout",
          "text": [
            "[[280  58]\n",
            " [280   2]\n",
            " [633   2]\n",
            " [633  58]]\n",
            "W------------\n"
          ]
        },
        {
          "output_type": "display_data",
          "data": {
            "text/plain": [
              "<PIL.Image.Image image mode=L size=353x56 at 0x7F7A73EDA450>"
            ],
            "image/png": "[encoded data removed]"
          },
          "metadata": {}
        },
        {
          "output_type": "stream",
          "name": "stdout",
          "text": [
            "x------------\n"
          ]
        },
        {
          "output_type": "display_data",
          "data": {
            "text/plain": [
              "<PIL.Image.Image image mode=L size=881x14 at 0x7F7A73ED6D10>"
            ],
            "image/png": "[encoded data removed]"
          },
          "metadata": {}
        },
        {
          "output_type": "display_data",
          "data": {
            "text/plain": [
              "<PIL.Image.Image image mode=L size=881x14 at 0x7F7A74749E50>"
            ],
            "image/png": "[encoded data removed]"
          },
          "metadata": {}
        },
        {
          "output_type": "stream",
          "name": "stdout",
          "text": [
            "[0, 4]\n"
          ]
        },
        {
          "output_type": "display_data",
          "data": {
            "text/plain": [
              "<PIL.Image.Image image mode=L size=881x14 at 0x7F7A73EDA790>"
            ],
            "image/png": "[encoded data removed]"
          },
          "metadata": {}
        },
        {
          "output_type": "display_data",
          "data": {
            "text/plain": [
              "<PIL.Image.Image image mode=L size=881x14 at 0x7F7A73EDA750>"
            ],
            "image/png": "[encoded data removed]"
          },
          "metadata": {}
        },
        {
          "output_type": "stream",
          "name": "stdout",
          "text": [
            "[0, 4, 10]\n"
          ]
        },
        {
          "output_type": "display_data",
          "data": {
            "text/plain": [
              "<PIL.Image.Image image mode=L size=881x14 at 0x7F7A73EDA350>"
            ],
            "image/png": "[encoded data removed]"
          },
          "metadata": {}
        },
        {
          "output_type": "display_data",
          "data": {
            "text/plain": [
              "<PIL.Image.Image image mode=L size=881x14 at 0x7F7A73EDA590>"
            ],
            "image/png": "[encoded data removed]"
          },
          "metadata": {}
        },
        {
          "output_type": "stream",
          "name": "stdout",
          "text": [
            "[0, 4, 10, 23]\n"
          ]
        },
        {
          "output_type": "display_data",
          "data": {
            "text/plain": [
              "<PIL.Image.Image image mode=L size=881x14 at 0x7F7A73EDAA10>"
            ],
            "image/png": "[encoded data removed]"
          },
          "metadata": {}
        },
        {
          "output_type": "display_data",
          "data": {
            "text/plain": [
              "<PIL.Image.Image image mode=L size=881x14 at 0x7F7A73EDA550>"
            ],
            "image/png": "[encoded data removed]"
          },
          "metadata": {}
        },
        {
          "output_type": "stream",
          "name": "stdout",
          "text": [
            "[0, 4, 10, 23, 30]\n"
          ]
        },
        {
          "output_type": "display_data",
          "data": {
            "text/plain": [
              "<PIL.Image.Image image mode=L size=881x14 at 0x7F7A73EDAAD0>"
            ],
            "image/png": "[encoded data removed]"
          },
          "metadata": {}
        },
        {
          "output_type": "display_data",
          "data": {
            "text/plain": [
              "<PIL.Image.Image image mode=L size=881x14 at 0x7F7A73EDA810>"
            ],
            "image/png": "[encoded data removed]"
          },
          "metadata": {}
        },
        {
          "output_type": "stream",
          "name": "stdout",
          "text": [
            "[0, 4, 10, 23, 30, 47]\n"
          ]
        },
        {
          "output_type": "display_data",
          "data": {
            "text/plain": [
              "<PIL.Image.Image image mode=L size=881x11 at 0x7F7A73EDAD90>"
            ],
            "image/png": "[encoded data removed]"
          },
          "metadata": {}
        },
        {
          "output_type": "display_data",
          "data": {
            "text/plain": [
              "<PIL.Image.Image image mode=L size=881x11 at 0x7F7A73EDA990>"
            ],
            "image/png": "[encoded data removed]"
          },
          "metadata": {}
        },
        {
          "output_type": "stream",
          "name": "stdout",
          "text": [
            "[0, 4, 10, 23, 30, 47, 62]\n"
          ]
        },
        {
          "output_type": "display_data",
          "data": {
            "text/plain": [
              "<PIL.Image.Image image mode=L size=881x14 at 0x7F7A73EDAC10>"
            ],
            "image/png": "[encoded data removed]"
          },
          "metadata": {}
        },
        {
          "output_type": "display_data",
          "data": {
            "text/plain": [
              "<PIL.Image.Image image mode=L size=881x14 at 0x7F7A73EC9510>"
            ],
            "image/png": "[encoded data removed]"
          },
          "metadata": {}
        },
        {
          "output_type": "stream",
          "name": "stdout",
          "text": [
            "[0, 4, 10, 23, 30, 47, 62, 84]\n"
          ]
        },
        {
          "output_type": "display_data",
          "data": {
            "text/plain": [
              "<PIL.Image.Image image mode=L size=881x14 at 0x7F7A73EDA8D0>"
            ],
            "image/png": "[encoded data removed]"
          },
          "metadata": {}
        },
        {
          "output_type": "display_data",
          "data": {
            "text/plain": [
              "<PIL.Image.Image image mode=L size=881x14 at 0x7F7A73ED6D50>"
            ],
            "image/png": "[encoded data removed]"
          },
          "metadata": {}
        },
        {
          "output_type": "stream",
          "name": "stdout",
          "text": [
            "[0, 4, 10, 23, 30, 47, 62, 84, 106]\n"
          ]
        },
        {
          "output_type": "display_data",
          "data": {
            "text/plain": [
              "<PIL.Image.Image image mode=L size=881x14 at 0x7F7A73EDAB90>"
            ],
            "image/png": "[encoded data removed]"
          },
          "metadata": {}
        },
        {
          "output_type": "display_data",
          "data": {
            "text/plain": [
              "<PIL.Image.Image image mode=L size=881x14 at 0x7F7A73ED66D0>"
            ],
            "image/png": "[encoded data removed]"
          },
          "metadata": {}
        },
        {
          "output_type": "stream",
          "name": "stdout",
          "text": [
            "[0, 4, 10, 23, 30, 47, 62, 84, 106, 112]\n"
          ]
        },
        {
          "output_type": "display_data",
          "data": {
            "text/plain": [
              "<PIL.Image.Image image mode=L size=881x14 at 0x7F7A73EDAA50>"
            ],
            "image/png": "[encoded data removed]"
          },
          "metadata": {}
        },
        {
          "output_type": "display_data",
          "data": {
            "text/plain": [
              "<PIL.Image.Image image mode=L size=881x14 at 0x7F7A73ED6510>"
            ],
            "image/png": "[encoded data removed]"
          },
          "metadata": {}
        },
        {
          "output_type": "stream",
          "name": "stdout",
          "text": [
            "[0, 4, 10, 23, 30, 47, 62, 84, 106, 112, 123]\n"
          ]
        },
        {
          "output_type": "display_data",
          "data": {
            "text/plain": [
              "<PIL.Image.Image image mode=L size=881x14 at 0x7F7A73ED66D0>"
            ],
            "image/png": "[encoded data removed]"
          },
          "metadata": {}
        },
        {
          "output_type": "display_data",
          "data": {
            "text/plain": [
              "<PIL.Image.Image image mode=L size=881x14 at 0x7F7A73EC94D0>"
            ],
            "image/png": "[encoded data removed]"
          },
          "metadata": {}
        },
        {
          "output_type": "stream",
          "name": "stdout",
          "text": [
            "[0, 4, 10, 23, 30, 47, 62, 84, 106, 112, 123, 127]\n"
          ]
        },
        {
          "output_type": "display_data",
          "data": {
            "text/plain": [
              "<PIL.Image.Image image mode=L size=881x14 at 0x7F7A73ED66D0>"
            ],
            "image/png": "[encoded data removed]"
          },
          "metadata": {}
        },
        {
          "output_type": "display_data",
          "data": {
            "text/plain": [
              "<PIL.Image.Image image mode=L size=881x14 at 0x7F7A73EC94D0>"
            ],
            "image/png": "[encoded data removed]"
          },
          "metadata": {}
        },
        {
          "output_type": "stream",
          "name": "stdout",
          "text": [
            "[0, 4, 10, 23, 30, 47, 62, 84, 106, 112, 123, 127, 157]\n"
          ]
        },
        {
          "output_type": "display_data",
          "data": {
            "text/plain": [
              "<PIL.Image.Image image mode=L size=881x14 at 0x7F7A74739D10>"
            ],
            "image/png": "[encoded data removed]"
          },
          "metadata": {}
        },
        {
          "output_type": "display_data",
          "data": {
            "text/plain": [
              "<PIL.Image.Image image mode=L size=881x14 at 0x7F7A74749E10>"
            ],
            "image/png": "[encoded data removed]"
          },
          "metadata": {}
        },
        {
          "output_type": "stream",
          "name": "stdout",
          "text": [
            "[0, 4, 10, 23, 30, 47, 62, 84, 106, 112, 123, 127, 157, 187]\n"
          ]
        },
        {
          "output_type": "display_data",
          "data": {
            "text/plain": [
              "<PIL.Image.Image image mode=L size=881x14 at 0x7F7A73EDAA50>"
            ],
            "image/png": "[encoded data removed]"
          },
          "metadata": {}
        },
        {
          "output_type": "display_data",
          "data": {
            "text/plain": [
              "<PIL.Image.Image image mode=L size=881x14 at 0x7F7A73ED66D0>"
            ],
            "image/png": "[encoded data removed]"
          },
          "metadata": {}
        },
        {
          "output_type": "stream",
          "name": "stdout",
          "text": [
            "[0, 4, 10, 23, 30, 47, 62, 84, 106, 112, 123, 127, 157, 187, 191]\n"
          ]
        },
        {
          "output_type": "display_data",
          "data": {
            "text/plain": [
              "<PIL.Image.Image image mode=L size=881x11 at 0x7F7A73EDAC10>"
            ],
            "image/png": "[encoded data removed]"
          },
          "metadata": {}
        },
        {
          "output_type": "display_data",
          "data": {
            "text/plain": [
              "<PIL.Image.Image image mode=L size=881x11 at 0x7F7A78AE00D0>"
            ],
            "image/png": "[encoded data removed]"
          },
          "metadata": {}
        },
        {
          "output_type": "stream",
          "name": "stdout",
          "text": [
            "[0, 4, 10, 23, 30, 47, 62, 84, 106, 112, 123, 127, 157, 187, 191, 201]\n"
          ]
        },
        {
          "output_type": "display_data",
          "data": {
            "text/plain": [
              "<PIL.Image.Image image mode=L size=881x11 at 0x7F7A73EDAA50>"
            ],
            "image/png": "[encoded data removed]"
          },
          "metadata": {}
        },
        {
          "output_type": "display_data",
          "data": {
            "text/plain": [
              "<PIL.Image.Image image mode=L size=881x11 at 0x7F7A74749F50>"
            ],
            "image/png": "[encoded data removed]"
          },
          "metadata": {}
        },
        {
          "output_type": "stream",
          "name": "stdout",
          "text": [
            "[0, 4, 10, 23, 30, 47, 62, 84, 106, 112, 123, 127, 157, 187, 191, 201, 210]\n"
          ]
        },
        {
          "output_type": "display_data",
          "data": {
            "text/plain": [
              "<PIL.Image.Image image mode=L size=881x15 at 0x7F7A73EDA810>"
            ],
            "image/png": "[encoded data removed]"
          },
          "metadata": {}
        },
        {
          "output_type": "display_data",
          "data": {
            "text/plain": [
              "<PIL.Image.Image image mode=L size=881x15 at 0x7F7A74749E90>"
            ],
            "image/png": "[encoded data removed]"
          },
          "metadata": {}
        },
        {
          "output_type": "stream",
          "name": "stdout",
          "text": [
            "[0, 4, 10, 23, 30, 47, 62, 84, 106, 112, 123, 127, 157, 187, 191, 201, 210, 216]\n"
          ]
        },
        {
          "output_type": "display_data",
          "data": {
            "text/plain": [
              "<PIL.Image.Image image mode=L size=881x14 at 0x7F7A73EDA590>"
            ],
            "image/png": "[encoded data removed]"
          },
          "metadata": {}
        },
        {
          "output_type": "display_data",
          "data": {
            "text/plain": [
              "<PIL.Image.Image image mode=L size=881x14 at 0x7F7A74749D50>"
            ],
            "image/png": "[encoded data removed]"
          },
          "metadata": {}
        },
        {
          "output_type": "stream",
          "name": "stdout",
          "text": [
            "[0, 4, 10, 23, 30, 47, 62, 84, 106, 112, 123, 127, 157, 187, 191, 201, 210, 216, 231]\n"
          ]
        },
        {
          "output_type": "display_data",
          "data": {
            "text/plain": [
              "<PIL.Image.Image image mode=L size=881x14 at 0x7F7A73EDA650>"
            ],
            "image/png": "[encoded data removed]"
          },
          "metadata": {}
        },
        {
          "output_type": "display_data",
          "data": {
            "text/plain": [
              "<PIL.Image.Image image mode=L size=881x14 at 0x7F7A74749E50>"
            ],
            "image/png": "[encoded data removed]"
          },
          "metadata": {}
        },
        {
          "output_type": "stream",
          "name": "stdout",
          "text": [
            "[0, 4, 10, 23, 30, 47, 62, 84, 106, 112, 123, 127, 157, 187, 191, 201, 210, 216, 231, 289]\n"
          ]
        },
        {
          "output_type": "display_data",
          "data": {
            "text/plain": [
              "<PIL.Image.Image image mode=L size=881x15 at 0x7F7A73ED6510>"
            ],
            "image/png": "[encoded data removed]"
          },
          "metadata": {}
        },
        {
          "output_type": "display_data",
          "data": {
            "text/plain": [
              "<PIL.Image.Image image mode=L size=881x15 at 0x7F7A74749E50>"
            ],
            "image/png": "[encoded data removed]"
          },
          "metadata": {}
        },
        {
          "output_type": "stream",
          "name": "stdout",
          "text": [
            "[0, 4, 10, 23, 30, 47, 62, 84, 106, 112, 123, 127, 157, 187, 191, 201, 210, 216, 231, 289, 345]\n"
          ]
        },
        {
          "output_type": "display_data",
          "data": {
            "text/plain": [
              "<PIL.Image.Image image mode=L size=881x14 at 0x7F7A73EC94D0>"
            ],
            "image/png": "[encoded data removed]"
          },
          "metadata": {}
        },
        {
          "output_type": "display_data",
          "data": {
            "text/plain": [
              "<PIL.Image.Image image mode=L size=881x14 at 0x7F7A74749E50>"
            ],
            "image/png": "[encoded data removed]"
          },
          "metadata": {}
        },
        {
          "output_type": "stream",
          "name": "stdout",
          "text": [
            "[0, 4, 10, 23, 30, 47, 62, 84, 106, 112, 123, 127, 157, 187, 191, 201, 210, 216, 231, 289, 345, 375]\n"
          ]
        },
        {
          "output_type": "display_data",
          "data": {
            "text/plain": [
              "<PIL.Image.Image image mode=L size=881x14 at 0x7F7A73EC94D0>"
            ],
            "image/png": "[encoded data removed]"
          },
          "metadata": {}
        },
        {
          "output_type": "display_data",
          "data": {
            "text/plain": [
              "<PIL.Image.Image image mode=L size=881x14 at 0x7F7A74749E50>"
            ],
            "image/png": "[encoded data removed]"
          },
          "metadata": {}
        },
        {
          "output_type": "stream",
          "name": "stdout",
          "text": [
            "[0, 4, 10, 23, 30, 47, 62, 84, 106, 112, 123, 127, 157, 187, 191, 201, 210, 216, 231, 289, 345, 375, 382]\n"
          ]
        },
        {
          "output_type": "display_data",
          "data": {
            "text/plain": [
              "<PIL.Image.Image image mode=L size=881x14 at 0x7F7A74739D10>"
            ],
            "image/png": "[encoded data removed]"
          },
          "metadata": {}
        },
        {
          "output_type": "display_data",
          "data": {
            "text/plain": [
              "<PIL.Image.Image image mode=L size=881x14 at 0x7F7A74749E50>"
            ],
            "image/png": "[encoded data removed]"
          },
          "metadata": {}
        },
        {
          "output_type": "stream",
          "name": "stdout",
          "text": [
            "[0, 4, 10, 23, 30, 47, 62, 84, 106, 112, 123, 127, 157, 187, 191, 201, 210, 216, 231, 289, 345, 375, 382, 388]\n",
            "(720, 881, 3)\n"
          ]
        },
        {
          "output_type": "display_data",
          "data": {
            "text/plain": [
              "<PIL.Image.Image image mode=RGB size=20x14 at 0x7F7A73EDA710>"
            ],
            "image/png": "[encoded data removed]"
          },
          "metadata": {}
        },
        {
          "output_type": "display_data",
          "data": {
            "text/plain": [
              "<PIL.Image.Image image mode=RGB size=20x14 at 0x7F7A73EDA710>"
            ],
            "image/png": "[encoded data removed]"
          },
          "metadata": {}
        },
        {
          "output_type": "display_data",
          "data": {
            "text/plain": [
              "<PIL.Image.Image image mode=RGB size=20x14 at 0x7F7A73EC94D0>"
            ],
            "image/png": "[encoded data removed]"
          },
          "metadata": {}
        },
        {
          "output_type": "display_data",
          "data": {
            "text/plain": [
              "<PIL.Image.Image image mode=RGB size=20x14 at 0x7F7A74749E50>"
            ],
            "image/png": "[encoded data removed]"
          },
          "metadata": {}
        },
        {
          "output_type": "display_data",
          "data": {
            "text/plain": [
              "<PIL.Image.Image image mode=RGB size=20x14 at 0x7F7A73EDA9D0>"
            ],
            "image/png": "[encoded data removed]"
          },
          "metadata": {}
        },
        {
          "output_type": "display_data",
          "data": {
            "text/plain": [
              "<PIL.Image.Image image mode=RGB size=20x14 at 0x7F7A73EDABD0>"
            ],
            "image/png": "[encoded data removed]"
          },
          "metadata": {}
        },
        {
          "output_type": "display_data",
          "data": {
            "text/plain": [
              "<PIL.Image.Image image mode=RGB size=20x14 at 0x7F7A73EDABD0>"
            ],
            "image/png": "[encoded data removed]"
          },
          "metadata": {}
        },
        {
          "output_type": "display_data",
          "data": {
            "text/plain": [
              "<PIL.Image.Image image mode=RGB size=20x14 at 0x7F7A73EDA5D0>"
            ],
            "image/png": "[encoded data removed]"
          },
          "metadata": {}
        },
        {
          "output_type": "display_data",
          "data": {
            "text/plain": [
              "<PIL.Image.Image image mode=RGB size=20x14 at 0x7F7A73EC94D0>"
            ],
            "image/png": "[encoded data removed]"
          },
          "metadata": {}
        },
        {
          "output_type": "display_data",
          "data": {
            "text/plain": [
              "<PIL.Image.Image image mode=RGB size=20x14 at 0x7F7AFB7DC590>"
            ],
            "image/png": "[encoded data removed]"
          },
          "metadata": {}
        },
        {
          "output_type": "display_data",
          "data": {
            "text/plain": [
              "<PIL.Image.Image image mode=RGB size=20x14 at 0x7F7A74762050>"
            ],
            "image/png": "[encoded data removed]"
          },
          "metadata": {}
        },
        {
          "output_type": "display_data",
          "data": {
            "text/plain": [
              "<PIL.Image.Image image mode=RGB size=20x14 at 0x7F7A74739D10>"
            ],
            "image/png": "[encoded data removed]"
          },
          "metadata": {}
        },
        {
          "output_type": "display_data",
          "data": {
            "text/plain": [
              "<PIL.Image.Image image mode=RGB size=20x14 at 0x7F7AFB7DC590>"
            ],
            "image/png": "[encoded data removed]"
          },
          "metadata": {}
        },
        {
          "output_type": "display_data",
          "data": {
            "text/plain": [
              "<PIL.Image.Image image mode=RGB size=20x14 at 0x7F7A74762050>"
            ],
            "image/png": "[encoded data removed]"
          },
          "metadata": {}
        },
        {
          "output_type": "display_data",
          "data": {
            "text/plain": [
              "<PIL.Image.Image image mode=RGB size=20x14 at 0x7F7A74739D10>"
            ],
            "image/png": "[encoded data removed]"
          },
          "metadata": {}
        },
        {
          "output_type": "display_data",
          "data": {
            "text/plain": [
              "<PIL.Image.Image image mode=RGB size=20x14 at 0x7F7A73EDA9D0>"
            ],
            "image/png": "[encoded data removed]"
          },
          "metadata": {}
        },
        {
          "output_type": "display_data",
          "data": {
            "text/plain": [
              "<PIL.Image.Image image mode=RGB size=20x14 at 0x7F7A73EDA9D0>"
            ],
            "image/png": "[encoded data removed]"
          },
          "metadata": {}
        },
        {
          "output_type": "display_data",
          "data": {
            "text/plain": [
              "<PIL.Image.Image image mode=RGB size=20x14 at 0x7F7A73EDA5D0>"
            ],
            "image/png": "[encoded data removed]"
          },
          "metadata": {}
        },
        {
          "output_type": "display_data",
          "data": {
            "text/plain": [
              "<PIL.Image.Image image mode=RGB size=20x14 at 0x7F7A73EDA710>"
            ],
            "image/png": "[encoded data removed]"
          },
          "metadata": {}
        },
        {
          "output_type": "display_data",
          "data": {
            "text/plain": [
              "<PIL.Image.Image image mode=RGB size=20x14 at 0x7F7A73EDA5D0>"
            ],
            "image/png": "[encoded data removed]"
          },
          "metadata": {}
        },
        {
          "output_type": "display_data",
          "data": {
            "text/plain": [
              "<PIL.Image.Image image mode=RGB size=20x14 at 0x7F7A73EDA710>"
            ],
            "image/png": "[encoded data removed]"
          },
          "metadata": {}
        },
        {
          "output_type": "display_data",
          "data": {
            "text/plain": [
              "<PIL.Image.Image image mode=RGB size=20x14 at 0x7F7A73EDA5D0>"
            ],
            "image/png": "[encoded data removed]"
          },
          "metadata": {}
        },
        {
          "output_type": "display_data",
          "data": {
            "text/plain": [
              "<PIL.Image.Image image mode=RGB size=20x14 at 0x7F7A73EDA710>"
            ],
            "image/png": "[encoded data removed]"
          },
          "metadata": {}
        },
        {
          "output_type": "display_data",
          "data": {
            "text/plain": [
              "<PIL.Image.Image image mode=RGB size=20x14 at 0x7F7A73EDA5D0>"
            ],
            "image/png": "[encoded data removed]"
          },
          "metadata": {}
        },
        {
          "output_type": "display_data",
          "data": {
            "text/plain": [
              "<PIL.Image.Image image mode=RGB size=20x14 at 0x7F7A73EDA710>"
            ],
            "image/png": "[encoded data removed]"
          },
          "metadata": {}
        },
        {
          "output_type": "display_data",
          "data": {
            "text/plain": [
              "<PIL.Image.Image image mode=RGB size=20x14 at 0x7F7A73EDA650>"
            ],
            "image/png": "[encoded data removed]"
          },
          "metadata": {}
        },
        {
          "output_type": "display_data",
          "data": {
            "text/plain": [
              "<PIL.Image.Image image mode=RGB size=20x14 at 0x7F7A73EDA9D0>"
            ],
            "image/png": "[encoded data removed]"
          },
          "metadata": {}
        },
        {
          "output_type": "display_data",
          "data": {
            "text/plain": [
              "<PIL.Image.Image image mode=RGB size=20x14 at 0x7F7A73EDA4D0>"
            ],
            "image/png": "[encoded data removed]"
          },
          "metadata": {}
        },
        {
          "output_type": "display_data",
          "data": {
            "text/plain": [
              "<PIL.Image.Image image mode=RGB size=20x14 at 0x7F7A73EDA590>"
            ],
            "image/png": "[encoded data removed]"
          },
          "metadata": {}
        },
        {
          "output_type": "display_data",
          "data": {
            "text/plain": [
              "<PIL.Image.Image image mode=RGB size=20x14 at 0x7F7A73EDA710>"
            ],
            "image/png": "[encoded data removed]"
          },
          "metadata": {}
        },
        {
          "output_type": "display_data",
          "data": {
            "text/plain": [
              "<PIL.Image.Image image mode=RGB size=20x14 at 0x7F7A73EDA650>"
            ],
            "image/png": "[encoded data removed]"
          },
          "metadata": {}
        },
        {
          "output_type": "display_data",
          "data": {
            "text/plain": [
              "<PIL.Image.Image image mode=RGB size=20x14 at 0x7F7A74749D50>"
            ],
            "image/png": "[encoded data removed]"
          },
          "metadata": {}
        },
        {
          "output_type": "display_data",
          "data": {
            "text/plain": [
              "<PIL.Image.Image image mode=RGB size=20x14 at 0x7F7A73EDA690>"
            ],
            "image/png": "[encoded data removed]"
          },
          "metadata": {}
        },
        {
          "output_type": "display_data",
          "data": {
            "text/plain": [
              "<PIL.Image.Image image mode=RGB size=20x14 at 0x7F7A73EC94D0>"
            ],
            "image/png": "[encoded data removed]"
          },
          "metadata": {}
        },
        {
          "output_type": "display_data",
          "data": {
            "text/plain": [
              "<PIL.Image.Image image mode=RGB size=20x14 at 0x7F7A74749E50>"
            ],
            "image/png": "[encoded data removed]"
          },
          "metadata": {}
        },
        {
          "output_type": "display_data",
          "data": {
            "text/plain": [
              "<PIL.Image.Image image mode=RGB size=20x14 at 0x7F7A73EDAAD0>"
            ],
            "image/png": "[encoded data removed]"
          },
          "metadata": {}
        },
        {
          "output_type": "display_data",
          "data": {
            "text/plain": [
              "<PIL.Image.Image image mode=RGB size=20x14 at 0x7F7A74762050>"
            ],
            "image/png": "[encoded data removed]"
          },
          "metadata": {}
        },
        {
          "output_type": "display_data",
          "data": {
            "text/plain": [
              "<PIL.Image.Image image mode=RGB size=20x14 at 0x7F7A73EC94D0>"
            ],
            "image/png": "[encoded data removed]"
          },
          "metadata": {}
        },
        {
          "output_type": "display_data",
          "data": {
            "text/plain": [
              "<PIL.Image.Image image mode=RGB size=20x14 at 0x7F7A73EC94D0>"
            ],
            "image/png": "[encoded data removed]"
          },
          "metadata": {}
        },
        {
          "output_type": "display_data",
          "data": {
            "text/plain": [
              "<PIL.Image.Image image mode=RGB size=20x14 at 0x7F7A73EC9510>"
            ],
            "image/png": "[encoded data removed]"
          },
          "metadata": {}
        },
        {
          "output_type": "display_data",
          "data": {
            "text/plain": [
              "<PIL.Image.Image image mode=RGB size=20x14 at 0x7F7A73EC1890>"
            ],
            "image/png": "[encoded data removed]"
          },
          "metadata": {}
        },
        {
          "output_type": "display_data",
          "data": {
            "text/plain": [
              "<PIL.Image.Image image mode=RGB size=20x14 at 0x7F7A73EC1890>"
            ],
            "image/png": "[encoded data removed]"
          },
          "metadata": {}
        },
        {
          "output_type": "display_data",
          "data": {
            "text/plain": [
              "<PIL.Image.Image image mode=RGB size=20x14 at 0x7F7A73ED6510>"
            ],
            "image/png": "[encoded data removed]"
          },
          "metadata": {}
        },
        {
          "output_type": "display_data",
          "data": {
            "text/plain": [
              "<PIL.Image.Image image mode=RGB size=20x14 at 0x7F7A73ED6510>"
            ],
            "image/png": "[encoded data removed]"
          },
          "metadata": {}
        },
        {
          "output_type": "display_data",
          "data": {
            "text/plain": [
              "<PIL.Image.Image image mode=RGB size=20x14 at 0x7F7A74749E90>"
            ],
            "image/png": "[encoded data removed]"
          },
          "metadata": {}
        },
        {
          "output_type": "display_data",
          "data": {
            "text/plain": [
              "<PIL.Image.Image image mode=RGB size=20x14 at 0x7F7A74739D10>"
            ],
            "image/png": "[encoded data removed]"
          },
          "metadata": {}
        },
        {
          "output_type": "display_data",
          "data": {
            "text/plain": [
              "<PIL.Image.Image image mode=RGB size=20x14 at 0x7F7A74749E90>"
            ],
            "image/png": "[encoded data removed]"
          },
          "metadata": {}
        },
        {
          "output_type": "display_data",
          "data": {
            "text/plain": [
              "<PIL.Image.Image image mode=RGB size=20x14 at 0x7F7A74749E50>"
            ],
            "image/png": "[encoded data removed]"
          },
          "metadata": {}
        },
        {
          "output_type": "display_data",
          "data": {
            "text/plain": [
              "<PIL.Image.Image image mode=RGB size=20x14 at 0x7F7A74762050>"
            ],
            "image/png": "[encoded data removed]"
          },
          "metadata": {}
        },
        {
          "output_type": "display_data",
          "data": {
            "text/plain": [
              "<PIL.Image.Image image mode=RGB size=20x14 at 0x7F7A73EC9510>"
            ],
            "image/png": "[encoded data removed]"
          },
          "metadata": {}
        },
        {
          "output_type": "display_data",
          "data": {
            "text/plain": [
              "<PIL.Image.Image image mode=RGB size=20x14 at 0x7F7A73EC1890>"
            ],
            "image/png": "[encoded data removed]"
          },
          "metadata": {}
        },
        {
          "output_type": "display_data",
          "data": {
            "text/plain": [
              "<PIL.Image.Image image mode=RGB size=20x14 at 0x7F7A74749D50>"
            ],
            "image/png": "[encoded data removed]"
          },
          "metadata": {}
        },
        {
          "output_type": "display_data",
          "data": {
            "text/plain": [
              "<PIL.Image.Image image mode=RGB size=20x14 at 0x7F7A73ED6D50>"
            ],
            "image/png": "[encoded data removed]"
          },
          "metadata": {}
        },
        {
          "output_type": "display_data",
          "data": {
            "text/plain": [
              "<PIL.Image.Image image mode=RGB size=20x14 at 0x7F7A73EC9510>"
            ],
            "image/png": "[encoded data removed]"
          },
          "metadata": {}
        },
        {
          "output_type": "display_data",
          "data": {
            "text/plain": [
              "<PIL.Image.Image image mode=RGB size=20x14 at 0x7F7A73EC1890>"
            ],
            "image/png": "[encoded data removed]"
          },
          "metadata": {}
        },
        {
          "output_type": "display_data",
          "data": {
            "text/plain": [
              "<PIL.Image.Image image mode=RGB size=20x14 at 0x7F7A74739D10>"
            ],
            "image/png": "[encoded data removed]"
          },
          "metadata": {}
        },
        {
          "output_type": "display_data",
          "data": {
            "text/plain": [
              "<PIL.Image.Image image mode=RGB size=20x14 at 0x7F7A73EC94D0>"
            ],
            "image/png": "[encoded data removed]"
          },
          "metadata": {}
        },
        {
          "output_type": "display_data",
          "data": {
            "text/plain": [
              "<PIL.Image.Image image mode=RGB size=20x14 at 0x7F7A74749D50>"
            ],
            "image/png": "[encoded data removed]"
          },
          "metadata": {}
        },
        {
          "output_type": "display_data",
          "data": {
            "text/plain": [
              "<PIL.Image.Image image mode=RGB size=20x14 at 0x7F7A74749E50>"
            ],
            "image/png": "[encoded data removed]"
          },
          "metadata": {}
        },
        {
          "output_type": "display_data",
          "data": {
            "text/plain": [
              "<PIL.Image.Image image mode=RGB size=20x14 at 0x7F7A74739D10>"
            ],
            "image/png": "[encoded data removed]"
          },
          "metadata": {}
        },
        {
          "output_type": "display_data",
          "data": {
            "text/plain": [
              "<PIL.Image.Image image mode=RGB size=20x14 at 0x7F7A78AE00D0>"
            ],
            "image/png": "[encoded data removed]"
          },
          "metadata": {}
        },
        {
          "output_type": "display_data",
          "data": {
            "text/plain": [
              "<PIL.Image.Image image mode=RGB size=20x14 at 0x7F7A74749E50>"
            ],
            "image/png": "[encoded data removed]"
          },
          "metadata": {}
        },
        {
          "output_type": "display_data",
          "data": {
            "text/plain": [
              "<PIL.Image.Image image mode=RGB size=20x14 at 0x7F7A7C8699D0>"
            ],
            "image/png": "[encoded data removed]"
          },
          "metadata": {}
        },
        {
          "output_type": "display_data",
          "data": {
            "text/plain": [
              "<PIL.Image.Image image mode=RGB size=20x14 at 0x7F7A73EC1890>"
            ],
            "image/png": "[encoded data removed]"
          },
          "metadata": {}
        },
        {
          "output_type": "display_data",
          "data": {
            "text/plain": [
              "<PIL.Image.Image image mode=RGB size=20x14 at 0x7F7A73EC9510>"
            ],
            "image/png": "[encoded data removed]"
          },
          "metadata": {}
        },
        {
          "output_type": "display_data",
          "data": {
            "text/plain": [
              "<PIL.Image.Image image mode=RGB size=20x14 at 0x7F7A73ED66D0>"
            ],
            "image/png": "[encoded data removed]"
          },
          "metadata": {}
        },
        {
          "output_type": "display_data",
          "data": {
            "text/plain": [
              "<PIL.Image.Image image mode=RGB size=20x14 at 0x7F7A73EC94D0>"
            ],
            "image/png": "[encoded data removed]"
          },
          "metadata": {}
        },
        {
          "output_type": "display_data",
          "data": {
            "text/plain": [
              "<PIL.Image.Image image mode=RGB size=20x14 at 0x7F7A73ED6510>"
            ],
            "image/png": "[encoded data removed]"
          },
          "metadata": {}
        },
        {
          "output_type": "display_data",
          "data": {
            "text/plain": [
              "<PIL.Image.Image image mode=RGB size=20x14 at 0x7F7A73ED66D0>"
            ],
            "image/png": "[encoded data removed]"
          },
          "metadata": {}
        },
        {
          "output_type": "display_data",
          "data": {
            "text/plain": [
              "<PIL.Image.Image image mode=RGB size=20x14 at 0x7F7A74749E90>"
            ],
            "image/png": "[encoded data removed]"
          },
          "metadata": {}
        },
        {
          "output_type": "display_data",
          "data": {
            "text/plain": [
              "<PIL.Image.Image image mode=RGB size=20x14 at 0x7F7A73ED6D50>"
            ],
            "image/png": "[encoded data removed]"
          },
          "metadata": {}
        },
        {
          "output_type": "display_data",
          "data": {
            "text/plain": [
              "<PIL.Image.Image image mode=RGB size=20x14 at 0x7F7A74749D50>"
            ],
            "image/png": "[encoded data removed]"
          },
          "metadata": {}
        },
        {
          "output_type": "display_data",
          "data": {
            "text/plain": [
              "<PIL.Image.Image image mode=RGB size=20x14 at 0x7F7A73EC94D0>"
            ],
            "image/png": "[encoded data removed]"
          },
          "metadata": {}
        },
        {
          "output_type": "display_data",
          "data": {
            "text/plain": [
              "<PIL.Image.Image image mode=RGB size=20x14 at 0x7F7A74749F50>"
            ],
            "image/png": "[encoded data removed]"
          },
          "metadata": {}
        },
        {
          "output_type": "display_data",
          "data": {
            "text/plain": [
              "<PIL.Image.Image image mode=RGB size=20x14 at 0x7F7A74739D10>"
            ],
            "image/png": "[encoded data removed]"
          },
          "metadata": {}
        },
        {
          "output_type": "display_data",
          "data": {
            "text/plain": [
              "<PIL.Image.Image image mode=RGB size=20x14 at 0x7F7A73ED6D50>"
            ],
            "image/png": "[encoded data removed]"
          },
          "metadata": {}
        },
        {
          "output_type": "display_data",
          "data": {
            "text/plain": [
              "<PIL.Image.Image image mode=RGB size=20x14 at 0x7F7A73EC94D0>"
            ],
            "image/png": "[encoded data removed]"
          },
          "metadata": {}
        },
        {
          "output_type": "display_data",
          "data": {
            "text/plain": [
              "<PIL.Image.Image image mode=RGB size=20x14 at 0x7F7A750BE650>"
            ],
            "image/png": "[encoded data removed]"
          },
          "metadata": {}
        },
        {
          "output_type": "display_data",
          "data": {
            "text/plain": [
              "<PIL.Image.Image image mode=RGB size=20x14 at 0x7F7A74749E90>"
            ],
            "image/png": "[encoded data removed]"
          },
          "metadata": {}
        },
        {
          "output_type": "display_data",
          "data": {
            "text/plain": [
              "<PIL.Image.Image image mode=RGB size=20x14 at 0x7F7A78AE00D0>"
            ],
            "image/png": "[encoded data removed]"
          },
          "metadata": {}
        },
        {
          "output_type": "display_data",
          "data": {
            "text/plain": [
              "<PIL.Image.Image image mode=RGB size=20x14 at 0x7F7A74749E90>"
            ],
            "image/png": "[encoded data removed]"
          },
          "metadata": {}
        },
        {
          "output_type": "display_data",
          "data": {
            "text/plain": [
              "<PIL.Image.Image image mode=RGB size=20x14 at 0x7F7A74749D50>"
            ],
            "image/png": "[encoded data removed]"
          },
          "metadata": {}
        },
        {
          "output_type": "display_data",
          "data": {
            "text/plain": [
              "<PIL.Image.Image image mode=RGB size=20x14 at 0x7F7AFB7DC590>"
            ],
            "image/png": "[encoded data removed]"
          },
          "metadata": {}
        },
        {
          "output_type": "display_data",
          "data": {
            "text/plain": [
              "<PIL.Image.Image image mode=RGB size=20x14 at 0x7F7A74749E90>"
            ],
            "image/png": "[encoded data removed]"
          },
          "metadata": {}
        },
        {
          "output_type": "display_data",
          "data": {
            "text/plain": [
              "<PIL.Image.Image image mode=RGB size=20x14 at 0x7F7A73ED6D50>"
            ],
            "image/png": "[encoded data removed]"
          },
          "metadata": {}
        },
        {
          "output_type": "display_data",
          "data": {
            "text/plain": [
              "<PIL.Image.Image image mode=RGB size=20x14 at 0x7F7A74749D50>"
            ],
            "image/png": "[encoded data removed]"
          },
          "metadata": {}
        },
        {
          "output_type": "display_data",
          "data": {
            "text/plain": [
              "<PIL.Image.Image image mode=RGB size=20x14 at 0x7F7A74749E50>"
            ],
            "image/png": "[encoded data removed]"
          },
          "metadata": {}
        },
        {
          "output_type": "display_data",
          "data": {
            "text/plain": [
              "<PIL.Image.Image image mode=RGB size=20x14 at 0x7F7AFB7EC8D0>"
            ],
            "image/png": "[encoded data removed]"
          },
          "metadata": {}
        },
        {
          "output_type": "display_data",
          "data": {
            "text/plain": [
              "<PIL.Image.Image image mode=RGB size=20x14 at 0x7F7A74749F50>"
            ],
            "image/png": "[encoded data removed]"
          },
          "metadata": {}
        },
        {
          "output_type": "display_data",
          "data": {
            "text/plain": [
              "<PIL.Image.Image image mode=RGB size=20x14 at 0x7F7A74749E90>"
            ],
            "image/png": "[encoded data removed]"
          },
          "metadata": {}
        },
        {
          "output_type": "display_data",
          "data": {
            "text/plain": [
              "<PIL.Image.Image image mode=RGB size=20x14 at 0x7F7A73EC1890>"
            ],
            "image/png": "[encoded data removed]"
          },
          "metadata": {}
        },
        {
          "output_type": "display_data",
          "data": {
            "text/plain": [
              "<PIL.Image.Image image mode=RGB size=20x14 at 0x7F7A73ED6D50>"
            ],
            "image/png": "[encoded data removed]"
          },
          "metadata": {}
        },
        {
          "output_type": "display_data",
          "data": {
            "text/plain": [
              "<PIL.Image.Image image mode=RGB size=20x14 at 0x7F7A73EDA910>"
            ],
            "image/png": "[encoded data removed]"
          },
          "metadata": {}
        },
        {
          "output_type": "display_data",
          "data": {
            "text/plain": [
              "<PIL.Image.Image image mode=RGB size=20x14 at 0x7F7A73ED6D50>"
            ],
            "image/png": "[encoded data removed]"
          },
          "metadata": {}
        },
        {
          "output_type": "display_data",
          "data": {
            "text/plain": [
              "<PIL.Image.Image image mode=RGB size=20x14 at 0x7F7A74749E90>"
            ],
            "image/png": "[encoded data removed]"
          },
          "metadata": {}
        },
        {
          "output_type": "display_data",
          "data": {
            "text/plain": [
              "<PIL.Image.Image image mode=RGB size=20x14 at 0x7F7A74749E90>"
            ],
            "image/png": "[encoded data removed]"
          },
          "metadata": {}
        },
        {
          "output_type": "display_data",
          "data": {
            "text/plain": [
              "<PIL.Image.Image image mode=RGB size=20x14 at 0x7F7A73ED66D0>"
            ],
            "image/png": "[encoded data removed]"
          },
          "metadata": {}
        },
        {
          "output_type": "display_data",
          "data": {
            "text/plain": [
              "<PIL.Image.Image image mode=RGB size=20x14 at 0x7F7A74749F50>"
            ],
            "image/png": "[encoded data removed]"
          },
          "metadata": {}
        },
        {
          "output_type": "display_data",
          "data": {
            "text/plain": [
              "<PIL.Image.Image image mode=RGB size=20x14 at 0x7F7A74749E50>"
            ],
            "image/png": "[encoded data removed]"
          },
          "metadata": {}
        },
        {
          "output_type": "display_data",
          "data": {
            "text/plain": [
              "<PIL.Image.Image image mode=RGB size=20x14 at 0x7F7A73EC94D0>"
            ],
            "image/png": "[encoded data removed]"
          },
          "metadata": {}
        },
        {
          "output_type": "display_data",
          "data": {
            "text/plain": [
              "<PIL.Image.Image image mode=RGB size=20x14 at 0x7F7A73ED6D50>"
            ],
            "image/png": "[encoded data removed]"
          },
          "metadata": {}
        },
        {
          "output_type": "display_data",
          "data": {
            "text/plain": [
              "<PIL.Image.Image image mode=RGB size=20x14 at 0x7F7A73ED66D0>"
            ],
            "image/png": "[encoded data removed]"
          },
          "metadata": {}
        },
        {
          "output_type": "display_data",
          "data": {
            "text/plain": [
              "<PIL.Image.Image image mode=RGB size=20x14 at 0x7F7A73ED66D0>"
            ],
            "image/png": "[encoded data removed]"
          },
          "metadata": {}
        },
        {
          "output_type": "display_data",
          "data": {
            "text/plain": [
              "<PIL.Image.Image image mode=RGB size=20x14 at 0x7F7A74749E90>"
            ],
            "image/png": "[encoded data removed]"
          },
          "metadata": {}
        },
        {
          "output_type": "display_data",
          "data": {
            "text/plain": [
              "<PIL.Image.Image image mode=RGB size=20x14 at 0x7F7A73ED6510>"
            ],
            "image/png": "[encoded data removed]"
          },
          "metadata": {}
        },
        {
          "output_type": "display_data",
          "data": {
            "text/plain": [
              "<PIL.Image.Image image mode=RGB size=20x14 at 0x7F7A74749D50>"
            ],
            "image/png": "[encoded data removed]"
          },
          "metadata": {}
        },
        {
          "output_type": "display_data",
          "data": {
            "text/plain": [
              "<PIL.Image.Image image mode=RGB size=20x14 at 0x7F7A73ED6510>"
            ],
            "image/png": "[encoded data removed]"
          },
          "metadata": {}
        },
        {
          "output_type": "display_data",
          "data": {
            "text/plain": [
              "<PIL.Image.Image image mode=RGB size=20x14 at 0x7F7A73EC9510>"
            ],
            "image/png": "[encoded data removed]"
          },
          "metadata": {}
        },
        {
          "output_type": "display_data",
          "data": {
            "text/plain": [
              "<PIL.Image.Image image mode=RGB size=20x14 at 0x7F7A74749E50>"
            ],
            "image/png": "[encoded data removed]"
          },
          "metadata": {}
        },
        {
          "output_type": "display_data",
          "data": {
            "text/plain": [
              "<PIL.Image.Image image mode=RGB size=20x14 at 0x7F7A74749D50>"
            ],
            "image/png": "[encoded data removed]"
          },
          "metadata": {}
        },
        {
          "output_type": "display_data",
          "data": {
            "text/plain": [
              "<PIL.Image.Image image mode=RGB size=20x14 at 0x7F7A73EDA590>"
            ],
            "image/png": "[encoded data removed]"
          },
          "metadata": {}
        },
        {
          "output_type": "display_data",
          "data": {
            "text/plain": [
              "<PIL.Image.Image image mode=RGB size=20x14 at 0x7F7A73EC9510>"
            ],
            "image/png": "[encoded data removed]"
          },
          "metadata": {}
        },
        {
          "output_type": "display_data",
          "data": {
            "text/plain": [
              "<PIL.Image.Image image mode=RGB size=20x14 at 0x7F7A73EDA910>"
            ],
            "image/png": "[encoded data removed]"
          },
          "metadata": {}
        },
        {
          "output_type": "display_data",
          "data": {
            "text/plain": [
              "<PIL.Image.Image image mode=RGB size=20x14 at 0x7F7A74749F50>"
            ],
            "image/png": "[encoded data removed]"
          },
          "metadata": {}
        },
        {
          "output_type": "display_data",
          "data": {
            "text/plain": [
              "<PIL.Image.Image image mode=RGB size=20x14 at 0x7F7A74749D50>"
            ],
            "image/png": "[encoded data removed]"
          },
          "metadata": {}
        },
        {
          "output_type": "display_data",
          "data": {
            "text/plain": [
              "<PIL.Image.Image image mode=RGB size=20x14 at 0x7F7A74749F50>"
            ],
            "image/png": "[encoded data removed]"
          },
          "metadata": {}
        },
        {
          "output_type": "display_data",
          "data": {
            "text/plain": [
              "<PIL.Image.Image image mode=RGB size=20x15 at 0x7F7A73ED6D50>"
            ],
            "image/png": "[encoded data removed]"
          },
          "metadata": {}
        },
        {
          "output_type": "display_data",
          "data": {
            "text/plain": [
              "<PIL.Image.Image image mode=RGB size=20x15 at 0x7F7AFB7DC590>"
            ],
            "image/png": "[encoded data removed]"
          },
          "metadata": {}
        },
        {
          "output_type": "display_data",
          "data": {
            "text/plain": [
              "<PIL.Image.Image image mode=RGB size=20x15 at 0x7F7A74749F50>"
            ],
            "image/png": "[encoded data removed]"
          },
          "metadata": {}
        },
        {
          "output_type": "display_data",
          "data": {
            "text/plain": [
              "<PIL.Image.Image image mode=RGB size=20x15 at 0x7F7A74749F50>"
            ],
            "image/png": "[encoded data removed]"
          },
          "metadata": {}
        },
        {
          "output_type": "display_data",
          "data": {
            "text/plain": [
              "<PIL.Image.Image image mode=RGB size=20x15 at 0x7F7A73EC94D0>"
            ],
            "image/png": "[encoded data removed]"
          },
          "metadata": {}
        },
        {
          "output_type": "display_data",
          "data": {
            "text/plain": [
              "<PIL.Image.Image image mode=RGB size=20x15 at 0x7F7A74739D10>"
            ],
            "image/png": "[encoded data removed]"
          },
          "metadata": {}
        },
        {
          "output_type": "display_data",
          "data": {
            "text/plain": [
              "<PIL.Image.Image image mode=RGB size=20x15 at 0x7F7A74749E50>"
            ],
            "image/png": "[encoded data removed]"
          },
          "metadata": {}
        },
        {
          "output_type": "display_data",
          "data": {
            "text/plain": [
              "<PIL.Image.Image image mode=RGB size=20x15 at 0x7F7A73ED6510>"
            ],
            "image/png": "[encoded data removed]"
          },
          "metadata": {}
        },
        {
          "output_type": "display_data",
          "data": {
            "text/plain": [
              "<PIL.Image.Image image mode=RGB size=20x15 at 0x7F7A74749E50>"
            ],
            "image/png": "[encoded data removed]"
          },
          "metadata": {}
        },
        {
          "output_type": "display_data",
          "data": {
            "text/plain": [
              "<PIL.Image.Image image mode=RGB size=20x15 at 0x7F7A74749E50>"
            ],
            "image/png": "[encoded data removed]"
          },
          "metadata": {}
        },
        {
          "output_type": "display_data",
          "data": {
            "text/plain": [
              "<PIL.Image.Image image mode=RGB size=20x15 at 0x7F7A73EC1890>"
            ],
            "image/png": "[encoded data removed]"
          },
          "metadata": {}
        },
        {
          "output_type": "display_data",
          "data": {
            "text/plain": [
              "<PIL.Image.Image image mode=RGB size=20x15 at 0x7F7A74749F50>"
            ],
            "image/png": "[encoded data removed]"
          },
          "metadata": {}
        },
        {
          "output_type": "display_data",
          "data": {
            "text/plain": [
              "<PIL.Image.Image image mode=RGB size=20x15 at 0x7F7A74762050>"
            ],
            "image/png": "[encoded data removed]"
          },
          "metadata": {}
        },
        {
          "output_type": "display_data",
          "data": {
            "text/plain": [
              "<PIL.Image.Image image mode=RGB size=20x15 at 0x7F7A74739D10>"
            ],
            "image/png": "[encoded data removed]"
          },
          "metadata": {}
        },
        {
          "output_type": "display_data",
          "data": {
            "text/plain": [
              "<PIL.Image.Image image mode=RGB size=20x15 at 0x7F7A73ED66D0>"
            ],
            "image/png": "[encoded data removed]"
          },
          "metadata": {}
        },
        {
          "output_type": "display_data",
          "data": {
            "text/plain": [
              "<PIL.Image.Image image mode=RGB size=20x15 at 0x7F7A74749E50>"
            ],
            "image/png": "[encoded data removed]"
          },
          "metadata": {}
        },
        {
          "output_type": "display_data",
          "data": {
            "text/plain": [
              "<PIL.Image.Image image mode=RGB size=20x15 at 0x7F7A74749D50>"
            ],
            "image/png": "[encoded data removed]"
          },
          "metadata": {}
        },
        {
          "output_type": "display_data",
          "data": {
            "text/plain": [
              "<PIL.Image.Image image mode=RGB size=20x15 at 0x7F7A73EC1890>"
            ],
            "image/png": "[encoded data removed]"
          },
          "metadata": {}
        },
        {
          "output_type": "display_data",
          "data": {
            "text/plain": [
              "<PIL.Image.Image image mode=RGB size=20x15 at 0x7F7A73ED6D50>"
            ],
            "image/png": "[encoded data removed]"
          },
          "metadata": {}
        },
        {
          "output_type": "display_data",
          "data": {
            "text/plain": [
              "<PIL.Image.Image image mode=RGB size=20x15 at 0x7F7A73EC9510>"
            ],
            "image/png": "[encoded data removed]"
          },
          "metadata": {}
        },
        {
          "output_type": "display_data",
          "data": {
            "text/plain": [
              "<PIL.Image.Image image mode=RGB size=20x15 at 0x7F7A74749F50>"
            ],
            "image/png": "[encoded data removed]"
          },
          "metadata": {}
        },
        {
          "output_type": "display_data",
          "data": {
            "text/plain": [
              "<PIL.Image.Image image mode=RGB size=20x15 at 0x7F7A74749E50>"
            ],
            "image/png": "[encoded data removed]"
          },
          "metadata": {}
        },
        {
          "output_type": "display_data",
          "data": {
            "text/plain": [
              "<PIL.Image.Image image mode=RGB size=20x15 at 0x7F7A73EC9510>"
            ],
            "image/png": "[encoded data removed]"
          },
          "metadata": {}
        },
        {
          "output_type": "display_data",
          "data": {
            "text/plain": [
              "<PIL.Image.Image image mode=RGB size=20x15 at 0x7F7A73ED6510>"
            ],
            "image/png": "[encoded data removed]"
          },
          "metadata": {}
        },
        {
          "output_type": "display_data",
          "data": {
            "text/plain": [
              "<PIL.Image.Image image mode=RGB size=20x15 at 0x7F7A73EDA5D0>"
            ],
            "image/png": "[encoded data removed]"
          },
          "metadata": {}
        },
        {
          "output_type": "display_data",
          "data": {
            "text/plain": [
              "<PIL.Image.Image image mode=RGB size=20x15 at 0x7F7A73ED66D0>"
            ],
            "image/png": "[encoded data removed]"
          },
          "metadata": {}
        },
        {
          "output_type": "display_data",
          "data": {
            "text/plain": [
              "<PIL.Image.Image image mode=RGB size=20x15 at 0x7F7A73ED6D50>"
            ],
            "image/png": "[encoded data removed]"
          },
          "metadata": {}
        },
        {
          "output_type": "display_data",
          "data": {
            "text/plain": [
              "<PIL.Image.Image image mode=RGB size=20x15 at 0x7F7A73ED6D50>"
            ],
            "image/png": "[encoded data removed]"
          },
          "metadata": {}
        },
        {
          "output_type": "display_data",
          "data": {
            "text/plain": [
              "<PIL.Image.Image image mode=RGB size=20x15 at 0x7F7A74749F50>"
            ],
            "image/png": "[encoded data removed]"
          },
          "metadata": {}
        },
        {
          "output_type": "display_data",
          "data": {
            "text/plain": [
              "<PIL.Image.Image image mode=RGB size=20x15 at 0x7F7A73ED6510>"
            ],
            "image/png": "[encoded data removed]"
          },
          "metadata": {}
        },
        {
          "output_type": "display_data",
          "data": {
            "text/plain": [
              "<PIL.Image.Image image mode=RGB size=20x15 at 0x7F7A73EDAAD0>"
            ],
            "image/png": "[encoded data removed]"
          },
          "metadata": {}
        },
        {
          "output_type": "display_data",
          "data": {
            "text/plain": [
              "<PIL.Image.Image image mode=RGB size=20x15 at 0x7F7A78AE0AD0>"
            ],
            "image/png": "[encoded data removed]"
          },
          "metadata": {}
        },
        {
          "output_type": "display_data",
          "data": {
            "text/plain": [
              "<PIL.Image.Image image mode=RGB size=20x15 at 0x7F7A78AE0AD0>"
            ],
            "image/png": "[encoded data removed]"
          },
          "metadata": {}
        },
        {
          "output_type": "display_data",
          "data": {
            "text/plain": [
              "<PIL.Image.Image image mode=RGB size=20x15 at 0x7F7A74749E90>"
            ],
            "image/png": "[encoded data removed]"
          },
          "metadata": {}
        },
        {
          "output_type": "display_data",
          "data": {
            "text/plain": [
              "<PIL.Image.Image image mode=RGB size=20x15 at 0x7F7A73EC1890>"
            ],
            "image/png": "[encoded data removed]"
          },
          "metadata": {}
        },
        {
          "output_type": "display_data",
          "data": {
            "text/plain": [
              "<PIL.Image.Image image mode=RGB size=20x15 at 0x7F7A74749D50>"
            ],
            "image/png": "[encoded data removed]"
          },
          "metadata": {}
        },
        {
          "output_type": "display_data",
          "data": {
            "text/plain": [
              "<PIL.Image.Image image mode=RGB size=20x15 at 0x7F7A73EDA810>"
            ],
            "image/png": "[encoded data removed]"
          },
          "metadata": {}
        },
        {
          "output_type": "display_data",
          "data": {
            "text/plain": [
              "<PIL.Image.Image image mode=RGB size=20x15 at 0x7F7A74762050>"
            ],
            "image/png": "[encoded data removed]"
          },
          "metadata": {}
        },
        {
          "output_type": "display_data",
          "data": {
            "text/plain": [
              "<PIL.Image.Image image mode=RGB size=20x15 at 0x7F7A74749F50>"
            ],
            "image/png": "[encoded data removed]"
          },
          "metadata": {}
        },
        {
          "output_type": "display_data",
          "data": {
            "text/plain": [
              "<PIL.Image.Image image mode=RGB size=20x15 at 0x7F7A73ED6510>"
            ],
            "image/png": "[encoded data removed]"
          },
          "metadata": {}
        },
        {
          "output_type": "display_data",
          "data": {
            "text/plain": [
              "<PIL.Image.Image image mode=RGB size=20x15 at 0x7F7A73EDA950>"
            ],
            "image/png": "[encoded data removed]"
          },
          "metadata": {}
        },
        {
          "output_type": "display_data",
          "data": {
            "text/plain": [
              "<PIL.Image.Image image mode=RGB size=20x15 at 0x7F7AFB7DC590>"
            ],
            "image/png": "[encoded data removed]"
          },
          "metadata": {}
        },
        {
          "output_type": "display_data",
          "data": {
            "text/plain": [
              "<PIL.Image.Image image mode=RGB size=20x15 at 0x7F7A74749F50>"
            ],
            "image/png": "[encoded data removed]"
          },
          "metadata": {}
        },
        {
          "output_type": "display_data",
          "data": {
            "text/plain": [
              "<PIL.Image.Image image mode=RGB size=20x15 at 0x7F7A73ED66D0>"
            ],
            "image/png": "[encoded data removed]"
          },
          "metadata": {}
        },
        {
          "output_type": "display_data",
          "data": {
            "text/plain": [
              "<PIL.Image.Image image mode=RGB size=20x15 at 0x7F7A73EDA950>"
            ],
            "image/png": "[encoded data removed]"
          },
          "metadata": {}
        },
        {
          "output_type": "display_data",
          "data": {
            "text/plain": [
              "<PIL.Image.Image image mode=RGB size=20x15 at 0x7F7A74749D50>"
            ],
            "image/png": "[encoded data removed]"
          },
          "metadata": {}
        },
        {
          "output_type": "display_data",
          "data": {
            "text/plain": [
              "<PIL.Image.Image image mode=RGB size=20x15 at 0x7F7A73ED66D0>"
            ],
            "image/png": "[encoded data removed]"
          },
          "metadata": {}
        },
        {
          "output_type": "display_data",
          "data": {
            "text/plain": [
              "<PIL.Image.Image image mode=RGB size=20x15 at 0x7F7A73EDA590>"
            ],
            "image/png": "[encoded data removed]"
          },
          "metadata": {}
        },
        {
          "output_type": "display_data",
          "data": {
            "text/plain": [
              "<PIL.Image.Image image mode=RGB size=20x15 at 0x7F7A73EC9510>"
            ],
            "image/png": "[encoded data removed]"
          },
          "metadata": {}
        },
        {
          "output_type": "display_data",
          "data": {
            "text/plain": [
              "<PIL.Image.Image image mode=RGB size=20x15 at 0x7F7A74749E50>"
            ],
            "image/png": "[encoded data removed]"
          },
          "metadata": {}
        },
        {
          "output_type": "display_data",
          "data": {
            "text/plain": [
              "<PIL.Image.Image image mode=RGB size=20x15 at 0x7F7A74749F50>"
            ],
            "image/png": "[encoded data removed]"
          },
          "metadata": {}
        },
        {
          "output_type": "display_data",
          "data": {
            "text/plain": [
              "<PIL.Image.Image image mode=RGB size=20x15 at 0x7F7A73EDA590>"
            ],
            "image/png": "[encoded data removed]"
          },
          "metadata": {}
        },
        {
          "output_type": "display_data",
          "data": {
            "text/plain": [
              "<PIL.Image.Image image mode=RGB size=20x15 at 0x7F7A73EDA590>"
            ],
            "image/png": "[encoded data removed]"
          },
          "metadata": {}
        },
        {
          "output_type": "display_data",
          "data": {
            "text/plain": [
              "<PIL.Image.Image image mode=RGB size=20x15 at 0x7F7A73ED66D0>"
            ],
            "image/png": "[encoded data removed]"
          },
          "metadata": {}
        },
        {
          "output_type": "display_data",
          "data": {
            "text/plain": [
              "<PIL.Image.Image image mode=RGB size=20x15 at 0x7F7A74749F50>"
            ],
            "image/png": "[encoded data removed]"
          },
          "metadata": {}
        },
        {
          "output_type": "display_data",
          "data": {
            "text/plain": [
              "<PIL.Image.Image image mode=RGB size=20x15 at 0x7F7A73ED6510>"
            ],
            "image/png": "[encoded data removed]"
          },
          "metadata": {}
        },
        {
          "output_type": "display_data",
          "data": {
            "text/plain": [
              "<PIL.Image.Image image mode=RGB size=20x15 at 0x7F7A73ED6510>"
            ],
            "image/png": "[encoded data removed]"
          },
          "metadata": {}
        },
        {
          "output_type": "display_data",
          "data": {
            "text/plain": [
              "<PIL.Image.Image image mode=RGB size=20x15 at 0x7F7A73ED66D0>"
            ],
            "image/png": "[encoded data removed]"
          },
          "metadata": {}
        },
        {
          "output_type": "display_data",
          "data": {
            "text/plain": [
              "<PIL.Image.Image image mode=RGB size=20x15 at 0x7F7A74749F50>"
            ],
            "image/png": "[encoded data removed]"
          },
          "metadata": {}
        },
        {
          "output_type": "display_data",
          "data": {
            "text/plain": [
              "<PIL.Image.Image image mode=RGB size=20x15 at 0x7F7A73ED6D50>"
            ],
            "image/png": "[encoded data removed]"
          },
          "metadata": {}
        },
        {
          "output_type": "display_data",
          "data": {
            "text/plain": [
              "<PIL.Image.Image image mode=RGB size=20x15 at 0x7F7A73EDA4D0>"
            ],
            "image/png": "[encoded data removed]"
          },
          "metadata": {}
        },
        {
          "output_type": "display_data",
          "data": {
            "text/plain": [
              "<PIL.Image.Image image mode=RGB size=20x15 at 0x7F7A74739D10>"
            ],
            "image/png": "[encoded data removed]"
          },
          "metadata": {}
        },
        {
          "output_type": "display_data",
          "data": {
            "text/plain": [
              "<PIL.Image.Image image mode=RGB size=20x15 at 0x7F7A73EC9510>"
            ],
            "image/png": "[encoded data removed]"
          },
          "metadata": {}
        },
        {
          "output_type": "display_data",
          "data": {
            "text/plain": [
              "<PIL.Image.Image image mode=RGB size=20x15 at 0x7F7A73EC94D0>"
            ],
            "image/png": "[encoded data removed]"
          },
          "metadata": {}
        },
        {
          "output_type": "display_data",
          "data": {
            "text/plain": [
              "<PIL.Image.Image image mode=RGB size=20x15 at 0x7F7A73ED6D50>"
            ],
            "image/png": "[encoded data removed]"
          },
          "metadata": {}
        },
        {
          "output_type": "display_data",
          "data": {
            "text/plain": [
              "<PIL.Image.Image image mode=RGB size=20x15 at 0x7F7A74749E50>"
            ],
            "image/png": "[encoded data removed]"
          },
          "metadata": {}
        },
        {
          "output_type": "display_data",
          "data": {
            "text/plain": [
              "<PIL.Image.Image image mode=RGB size=20x15 at 0x7F7A73ED6D50>"
            ],
            "image/png": "[encoded data removed]"
          },
          "metadata": {}
        },
        {
          "output_type": "display_data",
          "data": {
            "text/plain": [
              "<PIL.Image.Image image mode=RGB size=20x15 at 0x7F7A73ED6D50>"
            ],
            "image/png": "[encoded data removed]"
          },
          "metadata": {}
        },
        {
          "output_type": "display_data",
          "data": {
            "text/plain": [
              "<PIL.Image.Image image mode=RGB size=20x15 at 0x7F7A73ED6D50>"
            ],
            "image/png": "[encoded data removed]"
          },
          "metadata": {}
        },
        {
          "output_type": "display_data",
          "data": {
            "text/plain": [
              "<PIL.Image.Image image mode=RGB size=20x15 at 0x7F7A74749E90>"
            ],
            "image/png": "[encoded data removed]"
          },
          "metadata": {}
        },
        {
          "output_type": "display_data",
          "data": {
            "text/plain": [
              "<PIL.Image.Image image mode=RGB size=20x15 at 0x7F7A74749F50>"
            ],
            "image/png": "[encoded data removed]"
          },
          "metadata": {}
        },
        {
          "output_type": "display_data",
          "data": {
            "text/plain": [
              "<PIL.Image.Image image mode=RGB size=20x15 at 0x7F7A73EDA9D0>"
            ],
            "image/png": "[encoded data removed]"
          },
          "metadata": {}
        },
        {
          "output_type": "display_data",
          "data": {
            "text/plain": [
              "<PIL.Image.Image image mode=RGB size=20x15 at 0x7F7A74739D10>"
            ],
            "image/png": "[encoded data removed]"
          },
          "metadata": {}
        },
        {
          "output_type": "display_data",
          "data": {
            "text/plain": [
              "<PIL.Image.Image image mode=RGB size=20x15 at 0x7F7A73EC9510>"
            ],
            "image/png": "[encoded data removed]"
          },
          "metadata": {}
        },
        {
          "output_type": "display_data",
          "data": {
            "text/plain": [
              "<PIL.Image.Image image mode=RGB size=20x15 at 0x7F7A78AE0AD0>"
            ],
            "image/png": "[encoded data removed]"
          },
          "metadata": {}
        },
        {
          "output_type": "display_data",
          "data": {
            "text/plain": [
              "<PIL.Image.Image image mode=RGB size=20x15 at 0x7F7A74749F50>"
            ],
            "image/png": "[encoded data removed]"
          },
          "metadata": {}
        },
        {
          "output_type": "display_data",
          "data": {
            "text/plain": [
              "<PIL.Image.Image image mode=RGB size=20x15 at 0x7F7A73ED6D50>"
            ],
            "image/png": "[encoded data removed]"
          },
          "metadata": {}
        },
        {
          "output_type": "display_data",
          "data": {
            "text/plain": [
              "<PIL.Image.Image image mode=RGB size=20x15 at 0x7F7A74749E50>"
            ],
            "image/png": "[encoded data removed]"
          },
          "metadata": {}
        },
        {
          "output_type": "display_data",
          "data": {
            "text/plain": [
              "<PIL.Image.Image image mode=RGB size=20x15 at 0x7F7A74749E90>"
            ],
            "image/png": "[encoded data removed]"
          },
          "metadata": {}
        },
        {
          "output_type": "display_data",
          "data": {
            "text/plain": [
              "<PIL.Image.Image image mode=RGB size=20x15 at 0x7F7A73ED6D50>"
            ],
            "image/png": "[encoded data removed]"
          },
          "metadata": {}
        },
        {
          "output_type": "display_data",
          "data": {
            "text/plain": [
              "<PIL.Image.Image image mode=RGB size=20x15 at 0x7F7A73ED6D50>"
            ],
            "image/png": "[encoded data removed]"
          },
          "metadata": {}
        },
        {
          "output_type": "display_data",
          "data": {
            "text/plain": [
              "<PIL.Image.Image image mode=RGB size=20x15 at 0x7F7A74749E90>"
            ],
            "image/png": "[encoded data removed]"
          },
          "metadata": {}
        },
        {
          "output_type": "display_data",
          "data": {
            "text/plain": [
              "<PIL.Image.Image image mode=RGB size=20x15 at 0x7F7A73EDAA10>"
            ],
            "image/png": "[encoded data removed]"
          },
          "metadata": {}
        },
        {
          "output_type": "display_data",
          "data": {
            "text/plain": [
              "<PIL.Image.Image image mode=RGB size=20x15 at 0x7F7A74749F50>"
            ],
            "image/png": "[encoded data removed]"
          },
          "metadata": {}
        },
        {
          "output_type": "display_data",
          "data": {
            "text/plain": [
              "<PIL.Image.Image image mode=RGB size=20x15 at 0x7F7A74749D50>"
            ],
            "image/png": "[encoded data removed]"
          },
          "metadata": {}
        },
        {
          "output_type": "display_data",
          "data": {
            "text/plain": [
              "<PIL.Image.Image image mode=RGB size=20x15 at 0x7F7A73ED6510>"
            ],
            "image/png": "[encoded data removed]"
          },
          "metadata": {}
        },
        {
          "output_type": "display_data",
          "data": {
            "text/plain": [
              "<PIL.Image.Image image mode=RGB size=20x15 at 0x7F7A74749F50>"
            ],
            "image/png": "[encoded data removed]"
          },
          "metadata": {}
        },
        {
          "output_type": "display_data",
          "data": {
            "text/plain": [
              "<PIL.Image.Image image mode=RGB size=20x15 at 0x7F7A74749E90>"
            ],
            "image/png": "[encoded data removed]"
          },
          "metadata": {}
        },
        {
          "output_type": "display_data",
          "data": {
            "text/plain": [
              "<PIL.Image.Image image mode=RGB size=20x15 at 0x7F7A73EC9510>"
            ],
            "image/png": "[encoded data removed]"
          },
          "metadata": {}
        },
        {
          "output_type": "display_data",
          "data": {
            "text/plain": [
              "<PIL.Image.Image image mode=RGB size=20x15 at 0x7F7A74749E90>"
            ],
            "image/png": "[encoded data removed]"
          },
          "metadata": {}
        },
        {
          "output_type": "display_data",
          "data": {
            "text/plain": [
              "<PIL.Image.Image image mode=RGB size=20x15 at 0x7F7A73EDA590>"
            ],
            "image/png": "[encoded data removed]"
          },
          "metadata": {}
        },
        {
          "output_type": "display_data",
          "data": {
            "text/plain": [
              "<PIL.Image.Image image mode=RGB size=20x15 at 0x7F7A73EDA590>"
            ],
            "image/png": "[encoded data removed]"
          },
          "metadata": {}
        },
        {
          "output_type": "display_data",
          "data": {
            "text/plain": [
              "<PIL.Image.Image image mode=RGB size=20x15 at 0x7F7A73EDA590>"
            ],
            "image/png": "[encoded data removed]"
          },
          "metadata": {}
        },
        {
          "output_type": "display_data",
          "data": {
            "text/plain": [
              "<PIL.Image.Image image mode=RGB size=20x15 at 0x7F7A73EDA590>"
            ],
            "image/png": "[encoded data removed]"
          },
          "metadata": {}
        },
        {
          "output_type": "display_data",
          "data": {
            "text/plain": [
              "<PIL.Image.Image image mode=RGB size=20x15 at 0x7F7A73EDA590>"
            ],
            "image/png": "[encoded data removed]"
          },
          "metadata": {}
        },
        {
          "output_type": "display_data",
          "data": {
            "text/plain": [
              "<PIL.Image.Image image mode=RGB size=20x15 at 0x7F7A73EDA590>"
            ],
            "image/png": "[encoded data removed]"
          },
          "metadata": {}
        },
        {
          "output_type": "display_data",
          "data": {
            "text/plain": [
              "<PIL.Image.Image image mode=RGB size=20x15 at 0x7F7A73EDA590>"
            ],
            "image/png": "[encoded data removed]"
          },
          "metadata": {}
        },
        {
          "output_type": "display_data",
          "data": {
            "text/plain": [
              "<PIL.Image.Image image mode=RGB size=20x15 at 0x7F7A73EDA590>"
            ],
            "image/png": "[encoded data removed]"
          },
          "metadata": {}
        },
        {
          "output_type": "display_data",
          "data": {
            "text/plain": [
              "<PIL.Image.Image image mode=RGB size=20x15 at 0x7F7A73EDA590>"
            ],
            "image/png": "[encoded data removed]"
          },
          "metadata": {}
        },
        {
          "output_type": "display_data",
          "data": {
            "text/plain": [
              "<PIL.Image.Image image mode=RGB size=20x15 at 0x7F7A73EDA590>"
            ],
            "image/png": "[encoded data removed]"
          },
          "metadata": {}
        },
        {
          "output_type": "display_data",
          "data": {
            "text/plain": [
              "<PIL.Image.Image image mode=RGB size=20x15 at 0x7F7A73EDA590>"
            ],
            "image/png": "[encoded data removed]"
          },
          "metadata": {}
        },
        {
          "output_type": "display_data",
          "data": {
            "text/plain": [
              "<PIL.Image.Image image mode=RGB size=20x15 at 0x7F7A73EDA590>"
            ],
            "image/png": "[encoded data removed]"
          },
          "metadata": {}
        },
        {
          "output_type": "display_data",
          "data": {
            "text/plain": [
              "<PIL.Image.Image image mode=RGB size=20x15 at 0x7F7A73EDA590>"
            ],
            "image/png": "[encoded data removed]"
          },
          "metadata": {}
        },
        {
          "output_type": "display_data",
          "data": {
            "text/plain": [
              "<PIL.Image.Image image mode=RGB size=20x15 at 0x7F7A73EDA590>"
            ],
            "image/png": "[encoded data removed]"
          },
          "metadata": {}
        },
        {
          "output_type": "display_data",
          "data": {
            "text/plain": [
              "<PIL.Image.Image image mode=RGB size=20x15 at 0x7F7A73EDA590>"
            ],
            "image/png": "[encoded data removed]"
          },
          "metadata": {}
        },
        {
          "output_type": "display_data",
          "data": {
            "text/plain": [
              "<PIL.Image.Image image mode=RGB size=20x15 at 0x7F7A73EDA590>"
            ],
            "image/png": "[encoded data removed]"
          },
          "metadata": {}
        },
        {
          "output_type": "display_data",
          "data": {
            "text/plain": [
              "<PIL.Image.Image image mode=RGB size=20x15 at 0x7F7A73EDA590>"
            ],
            "image/png": "[encoded data removed]"
          },
          "metadata": {}
        },
        {
          "output_type": "display_data",
          "data": {
            "text/plain": [
              "<PIL.Image.Image image mode=RGB size=20x15 at 0x7F7A73EDA590>"
            ],
            "image/png": "[encoded data removed]"
          },
          "metadata": {}
        },
        {
          "output_type": "display_data",
          "data": {
            "text/plain": [
              "<PIL.Image.Image image mode=RGB size=20x15 at 0x7F7A73EDA590>"
            ],
            "image/png": "[encoded data removed]"
          },
          "metadata": {}
        },
        {
          "output_type": "display_data",
          "data": {
            "text/plain": [
              "<PIL.Image.Image image mode=RGB size=20x15 at 0x7F7A73EDA590>"
            ],
            "image/png": "[encoded data removed]"
          },
          "metadata": {}
        },
        {
          "output_type": "display_data",
          "data": {
            "text/plain": [
              "<PIL.Image.Image image mode=RGB size=20x15 at 0x7F7A73EDA590>"
            ],
            "image/png": "[encoded data removed]"
          },
          "metadata": {}
        },
        {
          "output_type": "display_data",
          "data": {
            "text/plain": [
              "<PIL.Image.Image image mode=RGB size=20x15 at 0x7F7A73EDA590>"
            ],
            "image/png": "[encoded data removed]"
          },
          "metadata": {}
        },
        {
          "output_type": "display_data",
          "data": {
            "text/plain": [
              "<PIL.Image.Image image mode=RGB size=20x14 at 0x7F7A73EDA590>"
            ],
            "image/png": "[encoded data removed]"
          },
          "metadata": {}
        },
        {
          "output_type": "display_data",
          "data": {
            "text/plain": [
              "<PIL.Image.Image image mode=RGB size=20x14 at 0x7F7A73EDA590>"
            ],
            "image/png": "[encoded data removed]"
          },
          "metadata": {}
        },
        {
          "output_type": "display_data",
          "data": {
            "text/plain": [
              "<PIL.Image.Image image mode=RGB size=20x14 at 0x7F7A73EDA590>"
            ],
            "image/png": "[encoded data removed]"
          },
          "metadata": {}
        },
        {
          "output_type": "display_data",
          "data": {
            "text/plain": [
              "<PIL.Image.Image image mode=RGB size=20x14 at 0x7F7A73EDA590>"
            ],
            "image/png": "[encoded data removed]"
          },
          "metadata": {}
        },
        {
          "output_type": "display_data",
          "data": {
            "text/plain": [
              "<PIL.Image.Image image mode=RGB size=20x14 at 0x7F7A73EDA590>"
            ],
            "image/png": "[encoded data removed]"
          },
          "metadata": {}
        },
        {
          "output_type": "display_data",
          "data": {
            "text/plain": [
              "<PIL.Image.Image image mode=RGB size=20x14 at 0x7F7A73EDA590>"
            ],
            "image/png": "[encoded data removed]"
          },
          "metadata": {}
        },
        {
          "output_type": "display_data",
          "data": {
            "text/plain": [
              "<PIL.Image.Image image mode=RGB size=20x14 at 0x7F7A73EDA590>"
            ],
            "image/png": "[encoded data removed]"
          },
          "metadata": {}
        },
        {
          "output_type": "display_data",
          "data": {
            "text/plain": [
              "<PIL.Image.Image image mode=RGB size=20x14 at 0x7F7A73EDA590>"
            ],
            "image/png": "[encoded data removed]"
          },
          "metadata": {}
        },
        {
          "output_type": "display_data",
          "data": {
            "text/plain": [
              "<PIL.Image.Image image mode=RGB size=20x14 at 0x7F7A73EDA590>"
            ],
            "image/png": "[encoded data removed]"
          },
          "metadata": {}
        },
        {
          "output_type": "display_data",
          "data": {
            "text/plain": [
              "<PIL.Image.Image image mode=RGB size=20x14 at 0x7F7A73EDA590>"
            ],
            "image/png": "[encoded data removed]"
          },
          "metadata": {}
        },
        {
          "output_type": "display_data",
          "data": {
            "text/plain": [
              "<PIL.Image.Image image mode=RGB size=20x14 at 0x7F7A73EDA590>"
            ],
            "image/png": "[encoded data removed]"
          },
          "metadata": {}
        },
        {
          "output_type": "display_data",
          "data": {
            "text/plain": [
              "<PIL.Image.Image image mode=RGB size=20x14 at 0x7F7A73EDA590>"
            ],
            "image/png": "[encoded data removed]"
          },
          "metadata": {}
        },
        {
          "output_type": "display_data",
          "data": {
            "text/plain": [
              "<PIL.Image.Image image mode=RGB size=20x14 at 0x7F7A73EDA590>"
            ],
            "image/png": "[encoded data removed]"
          },
          "metadata": {}
        },
        {
          "output_type": "display_data",
          "data": {
            "text/plain": [
              "<PIL.Image.Image image mode=RGB size=20x14 at 0x7F7A73EDA590>"
            ],
            "image/png": "[encoded data removed]"
          },
          "metadata": {}
        },
        {
          "output_type": "display_data",
          "data": {
            "text/plain": [
              "<PIL.Image.Image image mode=RGB size=20x14 at 0x7F7A73EDA590>"
            ],
            "image/png": "[encoded data removed]"
          },
          "metadata": {}
        },
        {
          "output_type": "display_data",
          "data": {
            "text/plain": [
              "<PIL.Image.Image image mode=RGB size=20x14 at 0x7F7A73EDA590>"
            ],
            "image/png": "[encoded data removed]"
          },
          "metadata": {}
        },
        {
          "output_type": "display_data",
          "data": {
            "text/plain": [
              "<PIL.Image.Image image mode=RGB size=20x14 at 0x7F7A73EDA590>"
            ],
            "image/png": "[encoded data removed]"
          },
          "metadata": {}
        },
        {
          "output_type": "display_data",
          "data": {
            "text/plain": [
              "<PIL.Image.Image image mode=RGB size=20x14 at 0x7F7A73EDA590>"
            ],
            "image/png": "[encoded data removed]"
          },
          "metadata": {}
        },
        {
          "output_type": "display_data",
          "data": {
            "text/plain": [
              "<PIL.Image.Image image mode=RGB size=20x14 at 0x7F7A73EDA590>"
            ],
            "image/png": "[encoded data removed]"
          },
          "metadata": {}
        },
        {
          "output_type": "display_data",
          "data": {
            "text/plain": [
              "<PIL.Image.Image image mode=RGB size=20x14 at 0x7F7A73EDA590>"
            ],
            "image/png": "[encoded data removed]"
          },
          "metadata": {}
        },
        {
          "output_type": "display_data",
          "data": {
            "text/plain": [
              "<PIL.Image.Image image mode=RGB size=20x14 at 0x7F7A73EDA590>"
            ],
            "image/png": "[encoded data removed]"
          },
          "metadata": {}
        },
        {
          "output_type": "display_data",
          "data": {
            "text/plain": [
              "<PIL.Image.Image image mode=RGB size=20x14 at 0x7F7A73EDA590>"
            ],
            "image/png": "[encoded data removed]"
          },
          "metadata": {}
        },
        {
          "output_type": "display_data",
          "data": {
            "text/plain": [
              "<PIL.Image.Image image mode=RGB size=20x14 at 0x7F7A73EDA590>"
            ],
            "image/png": "[encoded data removed]"
          },
          "metadata": {}
        },
        {
          "output_type": "display_data",
          "data": {
            "text/plain": [
              "<PIL.Image.Image image mode=RGB size=20x14 at 0x7F7A73EDA590>"
            ],
            "image/png": "[encoded data removed]"
          },
          "metadata": {}
        },
        {
          "output_type": "display_data",
          "data": {
            "text/plain": [
              "<PIL.Image.Image image mode=RGB size=20x14 at 0x7F7A73EDA590>"
            ],
            "image/png": "[encoded data removed]"
          },
          "metadata": {}
        },
        {
          "output_type": "display_data",
          "data": {
            "text/plain": [
              "<PIL.Image.Image image mode=RGB size=20x14 at 0x7F7A73EDA590>"
            ],
            "image/png": "[encoded data removed]"
          },
          "metadata": {}
        },
        {
          "output_type": "display_data",
          "data": {
            "text/plain": [
              "<PIL.Image.Image image mode=RGB size=20x14 at 0x7F7A73EDA590>"
            ],
            "image/png": "[encoded data removed]"
          },
          "metadata": {}
        },
        {
          "output_type": "display_data",
          "data": {
            "text/plain": [
              "<PIL.Image.Image image mode=RGB size=20x14 at 0x7F7A73EDA590>"
            ],
            "image/png": "[encoded data removed]"
          },
          "metadata": {}
        },
        {
          "output_type": "display_data",
          "data": {
            "text/plain": [
              "<PIL.Image.Image image mode=RGB size=20x14 at 0x7F7A73EDA590>"
            ],
            "image/png": "[encoded data removed]"
          },
          "metadata": {}
        },
        {
          "output_type": "display_data",
          "data": {
            "text/plain": [
              "<PIL.Image.Image image mode=RGB size=20x14 at 0x7F7A73EDA590>"
            ],
            "image/png": "[encoded data removed]"
          },
          "metadata": {}
        },
        {
          "output_type": "display_data",
          "data": {
            "text/plain": [
              "<PIL.Image.Image image mode=RGB size=20x14 at 0x7F7A73EDA590>"
            ],
            "image/png": "[encoded data removed]"
          },
          "metadata": {}
        },
        {
          "output_type": "display_data",
          "data": {
            "text/plain": [
              "<PIL.Image.Image image mode=RGB size=20x14 at 0x7F7A73EDA590>"
            ],
            "image/png": "[encoded data removed]"
          },
          "metadata": {}
        },
        {
          "output_type": "display_data",
          "data": {
            "text/plain": [
              "<PIL.Image.Image image mode=RGB size=20x14 at 0x7F7A73EDA590>"
            ],
            "image/png": "[encoded data removed]"
          },
          "metadata": {}
        },
        {
          "output_type": "display_data",
          "data": {
            "text/plain": [
              "<PIL.Image.Image image mode=RGB size=20x14 at 0x7F7A73EDA590>"
            ],
            "image/png": "[encoded data removed]"
          },
          "metadata": {}
        },
        {
          "output_type": "display_data",
          "data": {
            "text/plain": [
              "<PIL.Image.Image image mode=RGB size=20x14 at 0x7F7A73EDA590>"
            ],
            "image/png": "[encoded data removed]"
          },
          "metadata": {}
        },
        {
          "output_type": "display_data",
          "data": {
            "text/plain": [
              "<PIL.Image.Image image mode=RGB size=20x14 at 0x7F7A73EDA590>"
            ],
            "image/png": "[encoded data removed]"
          },
          "metadata": {}
        },
        {
          "output_type": "display_data",
          "data": {
            "text/plain": [
              "<PIL.Image.Image image mode=RGB size=20x14 at 0x7F7A73EDA590>"
            ],
            "image/png": "[encoded data removed]"
          },
          "metadata": {}
        },
        {
          "output_type": "display_data",
          "data": {
            "text/plain": [
              "<PIL.Image.Image image mode=RGB size=20x14 at 0x7F7A73EDA590>"
            ],
            "image/png": "[encoded data removed]"
          },
          "metadata": {}
        },
        {
          "output_type": "display_data",
          "data": {
            "text/plain": [
              "<PIL.Image.Image image mode=RGB size=20x14 at 0x7F7A73EDA590>"
            ],
            "image/png": "[encoded data removed]"
          },
          "metadata": {}
        },
        {
          "output_type": "display_data",
          "data": {
            "text/plain": [
              "<PIL.Image.Image image mode=RGB size=20x14 at 0x7F7A73EDA590>"
            ],
            "image/png": "[encoded data removed]"
          },
          "metadata": {}
        },
        {
          "output_type": "display_data",
          "data": {
            "text/plain": [
              "<PIL.Image.Image image mode=RGB size=20x14 at 0x7F7A73EDA590>"
            ],
            "image/png": "[encoded data removed]"
          },
          "metadata": {}
        },
        {
          "output_type": "display_data",
          "data": {
            "text/plain": [
              "<PIL.Image.Image image mode=RGB size=20x14 at 0x7F7A73EDA590>"
            ],
            "image/png": "[encoded data removed]"
          },
          "metadata": {}
        },
        {
          "output_type": "display_data",
          "data": {
            "text/plain": [
              "<PIL.Image.Image image mode=RGB size=20x14 at 0x7F7A73EDA590>"
            ],
            "image/png": "[encoded data removed]"
          },
          "metadata": {}
        },
        {
          "output_type": "display_data",
          "data": {
            "text/plain": [
              "<PIL.Image.Image image mode=RGB size=20x14 at 0x7F7A73EDA590>"
            ],
            "image/png": "[encoded data removed]"
          },
          "metadata": {}
        },
        {
          "output_type": "display_data",
          "data": {
            "text/plain": [
              "<PIL.Image.Image image mode=RGB size=20x14 at 0x7F7A73EDA590>"
            ],
            "image/png": "[encoded data removed]"
          },
          "metadata": {}
        },
        {
          "output_type": "display_data",
          "data": {
            "text/plain": [
              "<PIL.Image.Image image mode=RGB size=20x14 at 0x7F7A73EDA590>"
            ],
            "image/png": "[encoded data removed]"
          },
          "metadata": {}
        },
        {
          "output_type": "display_data",
          "data": {
            "text/plain": [
              "<PIL.Image.Image image mode=RGB size=20x14 at 0x7F7A73EDA590>"
            ],
            "image/png": "[encoded data removed]"
          },
          "metadata": {}
        },
        {
          "output_type": "display_data",
          "data": {
            "text/plain": [
              "<PIL.Image.Image image mode=RGB size=20x14 at 0x7F7A73EDA590>"
            ],
            "image/png": "[encoded data removed]"
          },
          "metadata": {}
        },
        {
          "output_type": "display_data",
          "data": {
            "text/plain": [
              "<PIL.Image.Image image mode=RGB size=20x14 at 0x7F7A73EDA590>"
            ],
            "image/png": "[encoded data removed]"
          },
          "metadata": {}
        },
        {
          "output_type": "display_data",
          "data": {
            "text/plain": [
              "<PIL.Image.Image image mode=RGB size=20x14 at 0x7F7A73EDA590>"
            ],
            "image/png": "[encoded data removed]"
          },
          "metadata": {}
        },
        {
          "output_type": "display_data",
          "data": {
            "text/plain": [
              "<PIL.Image.Image image mode=RGB size=20x14 at 0x7F7A73EDA590>"
            ],
            "image/png": "[encoded data removed]"
          },
          "metadata": {}
        },
        {
          "output_type": "display_data",
          "data": {
            "text/plain": [
              "<PIL.Image.Image image mode=RGB size=20x14 at 0x7F7A73EDA590>"
            ],
            "image/png": "[encoded data removed]"
          },
          "metadata": {}
        },
        {
          "output_type": "display_data",
          "data": {
            "text/plain": [
              "<PIL.Image.Image image mode=RGB size=20x14 at 0x7F7A73EDA590>"
            ],
            "image/png": "[encoded data removed]"
          },
          "metadata": {}
        },
        {
          "output_type": "display_data",
          "data": {
            "text/plain": [
              "<PIL.Image.Image image mode=RGB size=20x14 at 0x7F7A73EDA590>"
            ],
            "image/png": "[encoded data removed]"
          },
          "metadata": {}
        },
        {
          "output_type": "display_data",
          "data": {
            "text/plain": [
              "<PIL.Image.Image image mode=RGB size=20x14 at 0x7F7A73EDA590>"
            ],
            "image/png": "[encoded data removed]"
          },
          "metadata": {}
        },
        {
          "output_type": "display_data",
          "data": {
            "text/plain": [
              "<PIL.Image.Image image mode=RGB size=20x14 at 0x7F7A73EDA590>"
            ],
            "image/png": "[encoded data removed]"
          },
          "metadata": {}
        },
        {
          "output_type": "display_data",
          "data": {
            "text/plain": [
              "<PIL.Image.Image image mode=RGB size=20x14 at 0x7F7A73EDA590>"
            ],
            "image/png": "[encoded data removed]"
          },
          "metadata": {}
        },
        {
          "output_type": "display_data",
          "data": {
            "text/plain": [
              "<PIL.Image.Image image mode=RGB size=20x14 at 0x7F7A73EDA590>"
            ],
            "image/png": "[encoded data removed]"
          },
          "metadata": {}
        },
        {
          "output_type": "display_data",
          "data": {
            "text/plain": [
              "<PIL.Image.Image image mode=RGB size=20x14 at 0x7F7A73EDA590>"
            ],
            "image/png": "[encoded data removed]"
          },
          "metadata": {}
        },
        {
          "output_type": "display_data",
          "data": {
            "text/plain": [
              "<PIL.Image.Image image mode=RGB size=20x14 at 0x7F7A73EDA590>"
            ],
            "image/png": "[encoded data removed]"
          },
          "metadata": {}
        },
        {
          "output_type": "display_data",
          "data": {
            "text/plain": [
              "<PIL.Image.Image image mode=RGB size=20x14 at 0x7F7A73EDA590>"
            ],
            "image/png": "[encoded data removed]"
          },
          "metadata": {}
        },
        {
          "output_type": "display_data",
          "data": {
            "text/plain": [
              "<PIL.Image.Image image mode=RGB size=20x14 at 0x7F7A73EDA590>"
            ],
            "image/png": "[encoded data removed]"
          },
          "metadata": {}
        },
        {
          "output_type": "display_data",
          "data": {
            "text/plain": [
              "<PIL.Image.Image image mode=RGB size=20x14 at 0x7F7A73EDA590>"
            ],
            "image/png": "[encoded data removed]"
          },
          "metadata": {}
        },
        {
          "output_type": "display_data",
          "data": {
            "text/plain": [
              "<PIL.Image.Image image mode=RGB size=20x14 at 0x7F7A73EDA590>"
            ],
            "image/png": "[encoded data removed]"
          },
          "metadata": {}
        },
        {
          "output_type": "display_data",
          "data": {
            "text/plain": [
              "<PIL.Image.Image image mode=RGB size=20x14 at 0x7F7A73EDA590>"
            ],
            "image/png": "[encoded data removed]"
          },
          "metadata": {}
        },
        {
          "output_type": "display_data",
          "data": {
            "text/plain": [
              "<PIL.Image.Image image mode=RGB size=20x14 at 0x7F7A73EDA590>"
            ],
            "image/png": "[encoded data removed]"
          },
          "metadata": {}
        },
        {
          "output_type": "display_data",
          "data": {
            "text/plain": [
              "<PIL.Image.Image image mode=RGB size=20x14 at 0x7F7A73EDA590>"
            ],
            "image/png": "[encoded data removed]"
          },
          "metadata": {}
        },
        {
          "output_type": "display_data",
          "data": {
            "text/plain": [
              "<PIL.Image.Image image mode=RGB size=20x14 at 0x7F7A73EDA590>"
            ],
            "image/png": "[encoded data removed]"
          },
          "metadata": {}
        },
        {
          "output_type": "display_data",
          "data": {
            "text/plain": [
              "<PIL.Image.Image image mode=RGB size=20x14 at 0x7F7A73EDA590>"
            ],
            "image/png": "[encoded data removed]"
          },
          "metadata": {}
        },
        {
          "output_type": "display_data",
          "data": {
            "text/plain": [
              "<PIL.Image.Image image mode=RGB size=20x14 at 0x7F7A73EDA590>"
            ],
            "image/png": "[encoded data removed]"
          },
          "metadata": {}
        },
        {
          "output_type": "display_data",
          "data": {
            "text/plain": [
              "<PIL.Image.Image image mode=RGB size=20x14 at 0x7F7A73EDA590>"
            ],
            "image/png": "[encoded data removed]"
          },
          "metadata": {}
        },
        {
          "output_type": "display_data",
          "data": {
            "text/plain": [
              "<PIL.Image.Image image mode=RGB size=20x14 at 0x7F7A73EDA590>"
            ],
            "image/png": "[encoded data removed]"
          },
          "metadata": {}
        },
        {
          "output_type": "display_data",
          "data": {
            "text/plain": [
              "<PIL.Image.Image image mode=RGB size=20x14 at 0x7F7A73EDA590>"
            ],
            "image/png": "[encoded data removed]"
          },
          "metadata": {}
        },
        {
          "output_type": "display_data",
          "data": {
            "text/plain": [
              "<PIL.Image.Image image mode=RGB size=20x14 at 0x7F7A73EDA590>"
            ],
            "image/png": "[encoded data removed]"
          },
          "metadata": {}
        },
        {
          "output_type": "display_data",
          "data": {
            "text/plain": [
              "<PIL.Image.Image image mode=RGB size=30x14 at 0x7F7A73EDA590>"
            ],
            "image/png": "[encoded data removed]"
          },
          "metadata": {}
        },
        {
          "output_type": "display_data",
          "data": {
            "text/plain": [
              "<PIL.Image.Image image mode=RGB size=20x14 at 0x7F7A73EDA590>"
            ],
            "image/png": "[encoded data removed]"
          },
          "metadata": {}
        },
        {
          "output_type": "display_data",
          "data": {
            "text/plain": [
              "<PIL.Image.Image image mode=RGB size=20x14 at 0x7F7A73EDA590>"
            ],
            "image/png": "[encoded data removed]"
          },
          "metadata": {}
        },
        {
          "output_type": "display_data",
          "data": {
            "text/plain": [
              "<PIL.Image.Image image mode=RGB size=20x14 at 0x7F7A73EDA590>"
            ],
            "image/png": "[encoded data removed]"
          },
          "metadata": {}
        },
        {
          "output_type": "display_data",
          "data": {
            "text/plain": [
              "<PIL.Image.Image image mode=RGB size=20x14 at 0x7F7A73EDA590>"
            ],
            "image/png": "[encoded data removed]"
          },
          "metadata": {}
        },
        {
          "output_type": "display_data",
          "data": {
            "text/plain": [
              "<PIL.Image.Image image mode=RGB size=20x14 at 0x7F7A73EDA590>"
            ],
            "image/png": "[encoded data removed]"
          },
          "metadata": {}
        },
        {
          "output_type": "display_data",
          "data": {
            "text/plain": [
              "<PIL.Image.Image image mode=RGB size=20x14 at 0x7F7A73EDA590>"
            ],
            "image/png": "[encoded data removed]"
          },
          "metadata": {}
        },
        {
          "output_type": "display_data",
          "data": {
            "text/plain": [
              "<PIL.Image.Image image mode=RGB size=64x14 at 0x7F7A73EDA590>"
            ],
            "image/png": "[encoded data removed]"
          },
          "metadata": {}
        },
        {
          "output_type": "display_data",
          "data": {
            "text/plain": [
              "<PIL.Image.Image image mode=RGB size=20x14 at 0x7F7A73EDA590>"
            ],
            "image/png": "[encoded data removed]"
          },
          "metadata": {}
        },
        {
          "output_type": "display_data",
          "data": {
            "text/plain": [
              "<PIL.Image.Image image mode=RGB size=20x14 at 0x7F7A73EDA590>"
            ],
            "image/png": "[encoded data removed]"
          },
          "metadata": {}
        }
      ]
    },
    {
      "cell_type": "code",
      "source": [
        "model = tf.keras.models.load_model('/content/saved_model/my_model')\n",
        "final_img = []\n",
        "final_img = np.copy(img)\n",
        "cli = 0.5\n",
        "for i in range(19,len(y1)):\n",
        "  for count in range(xy_count[i],xy_count[i+1]):\n",
        "    if(x2[count]-x1[count]<20):\n",
        "      roun = 20-(x2[count]-x1[count])\n",
        "\n",
        "      y_predict = model.predict(np.reshape(cv2.resize(img[y1[i]:y2[i],x1[count]:np.minimum(x2[count]+roun,1043)],(30,30)),(1,30,30,3)))\n",
        "      y = np.argmax(y_predict, axis=1)\n",
        "      if(y==0 and y_predict[0,0]>cli):\n",
        "        print(y_predict)\n",
        "        cv2_imshow(img[y1[i]:y2[i],x1[count]:np.minimum(x2[count]+roun,1043)])\n",
        "        final_img[y1[i]:y2[i],x1[count]:np.minimum(x2[count]+roun,1043)]=(0,255,0)\n",
        "      y_predict = model.predict(np.reshape(cv2.resize(img[y1[i]:y2[i],np.max(x1[count]-roun,0):x2[count]],(30,30)),(1,30,30,3)))\n",
        "      y = np.argmax(y_predict, axis=1)\n",
        "      if(y==0and y_predict[0,0]>cli):\n",
        "        print(y_predict)\n",
        "        cv2_imshow(img[y1[i]:y2[i],np.max(x1[count]-roun,0):x2[count]])\n",
        "        final_img[y1[i]:y2[i],x1[count]:np.minimum(x2[count]+roun,1043)]=(0,255,0)\n",
        "    else:\n",
        "      y_predict = model.predict(np.reshape(cv2.resize(img[y1[i]:y2[i],x1[count]:x2[count]],(30,30)),(1,30,30,3)))\n",
        "      y = np.argmax(y_predict, axis=1)\n",
        "      if(y==0and y_predict[0,0]>cli):\n",
        "        print(y_predict)\n",
        "        cv2_imshow(img[y1[i]:y2[i],x1[count]:x2[count]])\n",
        "        final_img[y1[i]:y2[i],x1[count]:x2[count]]=(0,255,0)\n",
        "\n",
        "cv2_imshow(final_img)"
      ],
      "metadata": {
        "colab": {
          "base_uri": "https://localhost:8080/",
          "height": 772
        },
        "id": "Fq27cHDtSdCw",
        "outputId": "eceef8b3-c547-416c-bb50-4153f2510094"
      },
      "execution_count": 125,
      "outputs": [
        {
          "output_type": "stream",
          "name": "stdout",
          "text": [
            "[[0.6154928  0.38450715]]\n"
          ]
        },
        {
          "output_type": "display_data",
          "data": {
            "text/plain": [
              "<PIL.Image.Image image mode=RGB size=20x15 at 0x7F7A55687210>"
            ],
            "image/png": "[encoded data removed]"
          },
          "metadata": {}
        },
        {
          "output_type": "display_data",
          "data": {
            "text/plain": [
              "<PIL.Image.Image image mode=RGB size=881x720 at 0x7F7A6D3AA150>"
            ],
            "image/png": "[encoded data removed]"
          },
          "metadata": {}
        }
      ]
    },
    {
      "cell_type": "code",
      "source": [
        "from google.colab import drive\n",
        "drive.mount('/content/drive')"
      ],
      "metadata": {
        "id": "amc7ztXVFRSU"
      },
      "execution_count": null,
      "outputs": []
    }
  ]
}